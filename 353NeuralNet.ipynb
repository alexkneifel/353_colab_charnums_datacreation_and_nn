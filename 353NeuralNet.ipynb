{
  "nbformat": 4,
  "nbformat_minor": 0,
  "metadata": {
    "colab": {
      "name": "353NeuralNet.ipynb",
      "provenance": [],
      "collapsed_sections": [],
      "mount_file_id": "1fAkMvF2_nI0yPwwFrkl-Aoi7yy-2q5yP",
      "authorship_tag": "ABX9TyNydhVPSCLMSukMckPYJ0LL",
      "include_colab_link": true
    },
    "kernelspec": {
      "name": "python3",
      "display_name": "Python 3"
    },
    "language_info": {
      "name": "python"
    },
    "accelerator": "GPU"
  },
  "cells": [
    {
      "cell_type": "markdown",
      "metadata": {
        "id": "view-in-github",
        "colab_type": "text"
      },
      "source": [
        "<a href=\"https://colab.research.google.com/github/alexkneifel/353_colab_datacreation_and_nn/blob/main/353NeuralNet.ipynb\" target=\"_parent\"><img src=\"https://colab.research.google.com/assets/colab-badge.svg\" alt=\"Open In Colab\"/></a>"
      ]
    },
    {
      "cell_type": "code",
      "source": [
        "import math\n",
        "import numpy as np\n",
        "import re\n",
        "import string\n",
        "import os\n",
        "import cv2 as cv\n",
        "from google.colab.patches import cv2_imshow\n",
        "\n",
        "from collections import Counter\n",
        "from matplotlib import pyplot as plt\n",
        "\n",
        "import random\n",
        "from random import randint\n",
        "from PIL import Image, ImageFont, ImageDraw, ImageOps\n",
        "\n",
        "from os import pathconf\n",
        "\n",
        "#from tensorflow.keras.preprocessing import image\n"
      ],
      "metadata": {
        "id": "wx5Erl_yZi-X"
      },
      "execution_count": 2,
      "outputs": []
    },
    {
      "cell_type": "code",
      "source": [
        "from google.colab import drive\n",
        "drive.mount('/content/drive', force_remount = True)"
      ],
      "metadata": {
        "id": "Y7sVAF1nWxcJ",
        "colab": {
          "base_uri": "https://localhost:8080/"
        },
        "outputId": "effa4e4e-89e3-46d9-dd5e-ffaa6815815e"
      },
      "execution_count": 3,
      "outputs": [
        {
          "output_type": "stream",
          "name": "stdout",
          "text": [
            "Mounted at /content/drive\n"
          ]
        }
      ]
    },
    {
      "cell_type": "code",
      "source": [
        "path = \"/content/drive/MyDrive/LicensePlateData/\"\n",
        "print(path)\n",
        "\n",
        "plates = os.listdir(path)\n",
        "plates.remove(\".ipynb_checkpoints\")\n",
        "print(len(plates))"
      ],
      "metadata": {
        "colab": {
          "base_uri": "https://localhost:8080/"
        },
        "id": "kCCENMjqZL0i",
        "outputId": "71c46acc-da7f-4bf8-b850-e3f6702aa4f4"
      },
      "execution_count": 4,
      "outputs": [
        {
          "output_type": "stream",
          "name": "stdout",
          "text": [
            "/content/drive/MyDrive/LicensePlateData/\n",
            "285\n"
          ]
        }
      ]
    },
    {
      "cell_type": "code",
      "source": [
        "import cv2 as cv\n",
        "import numpy as np\n",
        "from matplotlib import pyplot as plt\n",
        "\n",
        "# This function gets the image from the file of images, grayscales and applies a first adaptive thresholding\n",
        "# It then erodes and dilates the photo\n",
        "# Input: plate num = the index of the platenumber wanted from the file\n",
        "# Returns: img_dilation = the dilated image, \n",
        "#          img_gray  =   the grayscale image, \n",
        "#          char1,char2,num1,num2 = the four char labels from the plate\n",
        "\n",
        "def choosePlate(platenum):\n",
        "  img_gray = cv.imread(path+plates[platenum], 0)\n",
        "  thresh = cv.adaptiveThreshold(img_gray, 255, cv.ADAPTIVE_THRESH_GAUSSIAN_C,cv.THRESH_BINARY, 107, 22)\n",
        "\n",
        "  kernel1 = np.ones((2,2), np.uint8)\n",
        "  img_erosion = cv.erode(thresh, kernel1, iterations=1)\n",
        "  img_dilation = cv.dilate(img_erosion, kernel1, iterations=1)\n",
        "\n",
        "  #print(sum(sum(img_dilation)))\n",
        "  #print(plates[platenum])\n",
        "  #print(str(thresh.shape[0]) + \" \" + str(thresh.shape[1]))\n",
        "  # cv2_imshow(img_gray)\n",
        "  #cv2_imshow(img_dilation)\n",
        "  char1, char2, num1, num2 = returnLabel(plates[platenum])\n",
        "  return img_dilation, img_gray, char1,char2,num1,num2"
      ],
      "metadata": {
        "id": "mtagCYndQ07_"
      },
      "execution_count": 5,
      "outputs": []
    },
    {
      "cell_type": "markdown",
      "source": [
        "This block gets rid of the side bar"
      ],
      "metadata": {
        "id": "suos9-acd5i_"
      }
    },
    {
      "cell_type": "code",
      "source": [
        "# This function removes the left hand side vertical bar that is \n",
        "# present on all the license plates. Not currently in use.\n",
        "# Input: img_dilation = a black and white license plate image from simulation\n",
        "# Returns: crop = The same image without the vertical bar on the left\n",
        "def crop_side_bar(img_dilation):\n",
        "  max_area = 0\n",
        "  contours = cv.findContours(img_dilation, cv.RETR_TREE, cv.CHAIN_APPROX_SIMPLE)\n",
        "  contours = contours[0] if len(contours) == 2 else contours[1]\n",
        "  for c in contours:\n",
        "    area = cv.contourArea(c)\n",
        "    if area > max_area:\n",
        "      max_c = c\n",
        "      max_area = area\n",
        "\n",
        "  if max_c is not None:\n",
        "    leftmost = tuple(max_c[max_c[:, :, 0].argmin()][0])\n",
        "    rightmost = tuple(max_c[max_c[:, :, 0].argmax()][0])\n",
        "    top = tuple(max_c[max_c[:, :, 1].argmin()][0])\n",
        "    bot = tuple(max_c[max_c[:, :, 1].argmax()][0])\n",
        "    small_leftp = int(leftmost[0])\n",
        "    small_rightp = int(rightmost[0])\n",
        "    small_topp = int(top[1])\n",
        "    small_botp = int(bot[1])\n",
        "\n",
        "    crop = img_dilation[small_topp:small_botp, small_leftp:small_rightp]\n",
        "    return crop"
      ],
      "metadata": {
        "id": "ppvxNdMNdNCV"
      },
      "execution_count": 6,
      "outputs": []
    },
    {
      "cell_type": "code",
      "source": [
        "# Helper method for finding contours of chars in four photo return method\n",
        "# Input: img_dilation = the black and white plate, \n",
        "#        img_gray = gray plate, \n",
        "#         x_shift, y_shift = amt of x and y shift for the crop  (for data augmentation)\n",
        "# Returns: organized_chars = images of the chars in the order which they appear on the plate,\n",
        "#          flipd_img = bitwise not image of the black and white inputted\n",
        "\n",
        "def find_chars(img_dilation,img_gray, x_shift, y_shift):\n",
        "  count = 0\n",
        "  order_of_chars = {}\n",
        "  crops = {}\n",
        "  flipd_img = cv.bitwise_not(img_dilation)\n",
        "  #cv2_imshow(flipd_img)\n",
        "  width = flipd_img.shape[1]\n",
        "  max_area = 0\n",
        "  contours = cv.findContours(flipd_img, cv.RETR_TREE, cv.CHAIN_APPROX_SIMPLE)\n",
        "  contours = contours[0] if len(contours) == 2 else contours[1]\n",
        "  cnt = sorted(contours, key=cv.contourArea, reverse=True)\n",
        "  for max_c in contours:\n",
        "    leftmost = tuple(max_c[max_c[:, :, 0].argmin()][0])\n",
        "    rightmost = tuple(max_c[max_c[:, :, 0].argmax()][0])\n",
        "    top = tuple(max_c[max_c[:, :, 1].argmin()][0])\n",
        "    bot = tuple(max_c[max_c[:, :, 1].argmax()][0])\n",
        "    if leftmost[0]-5 >0 and top[1] - 5 > 0:\n",
        "      small_leftp = int(leftmost[0]-5)\n",
        "      small_rightp = int(rightmost[0]+5)\n",
        "      small_topp = int(top[1]-5)\n",
        "      small_botp = int(bot[1]+5)\n",
        "      # making minimum size of bounding box a square\n",
        "      if small_rightp - small_leftp < small_botp-small_topp:\n",
        "        diff = (small_botp-small_topp) - (small_rightp - small_leftp)\n",
        "        small_leftp = small_leftp - ceildiv(diff,2)\n",
        "        small_rightp = small_rightp + (diff//2)\n",
        "      # if including middle thing, cut it in half\n",
        "      crop_width = small_rightp-small_leftp\n",
        "      if 0.42 < small_leftp/width <0.455 and crop_width < 60:\n",
        "        small_leftp = small_leftp + int((crop_width)/2)\n",
        "      crop = img_gray[small_topp+y_shift:small_botp+y_shift, small_leftp+x_shift:small_rightp+x_shift]\n",
        "      if crop.shape[1]/float(crop.shape[0]) >= 1:\n",
        "        order_of_chars.update({count: small_leftp})\n",
        "        crops.update({count: crop})\n",
        "        count = count + 1\n",
        "\n",
        "  # print(\"map of count to left points: \"+ str(order_of_chars))\n",
        "  # print(\"map of count to crop: \"+ str(crops))\n",
        "\n",
        "  for image in list(crops.keys()):\n",
        "    if crops[image].shape[0] < 18:\n",
        "      crops.pop(image)\n",
        "\n",
        "  four_points = []\n",
        "  # this is four largest chars in reverse order\n",
        "  chars = dict(sorted(crops.items(),key=lambda kv: kv[1].size, reverse=True)[:4])\n",
        "\n",
        "  for count1, char in chars.items():\n",
        "    for count2, point in order_of_chars.items():\n",
        "      if count1 == count2:\n",
        "        four_points.append(point)\n",
        "\n",
        "  zip_iterator = zip(four_points, chars.values())\n",
        "  chars_dict = dict(zip_iterator)\n",
        "  organized_chars_map = dict(sorted(chars_dict.items(),key=lambda kv: kv[0]))\n",
        "  organized_chars = list(organized_chars_map.values())\n",
        "\n",
        "  return organized_chars,flipd_img\n",
        "\n",
        "def ceildiv(a, b):\n",
        "    return -(a // -b)\n"
      ],
      "metadata": {
        "id": "oooIvxS0fOld"
      },
      "execution_count": 7,
      "outputs": []
    },
    {
      "cell_type": "code",
      "source": [
        "# Main method that calls other helper methods above with the goal to \n",
        "# separate the four chars into four clean photos along with their respective labels.\n",
        "# Input: plate = the color version of the plate from the file,  \n",
        "#         x_shift, y_shift = amt of x and y shift for the crop  (for data augmentation)\n",
        "# Returns: first_char,second_char, first_num, second_num  = images of the chars in the order which they appear on the plate,\n",
        "#          char1,char2,num1,num2 = corresponding labels\n",
        "\n",
        "def four_photo_return(plate, x_shift, y_shift):\n",
        "  two_split = False\n",
        "  # print(\"plate num: \" + str(plate))\n",
        "  dilate,gray,char1,char2,num1,num2 = choosePlate(plate)\n",
        "  chars,flipd_img = find_chars(dilate, gray, x_shift, y_shift)\n",
        "  plate_chars = []\n",
        "\n",
        "  if sum(sum(flipd_img)) > 26000:\n",
        "    for i in range(4):\n",
        "      if chars[i].shape[1]/float(chars[i].shape[0]) > 1.455:\n",
        "        kernel1 = np.ones((2,2), np.uint8)\n",
        "        two_dilate = cv.dilate(dilate, kernel1, iterations=1)\n",
        "        chars, flipd_img = find_chars(two_dilate, gray, x_shift, y_shift)\n",
        "        # print(\"extra dilation\")\n",
        "        break\n",
        "  \n",
        "\n",
        "  for i in range(len(chars)):\n",
        "    height = chars[i].shape[0]\n",
        "    width = chars[i].shape[1]\n",
        "    if width/float(height) > 2.65:\n",
        "      # print(\"pre-3 split\")\n",
        "      plate_chars.append(chars[i][:height, int((0.333)*width):int((0.666)*width)])\n",
        "      plate_chars.append(chars[i][:height, int((0.666)*width):width])\n",
        "    elif width/float(height) > 1.55:\n",
        "      # print(\"pre-2 split\")\n",
        "      two_split = True\n",
        "      plate_chars.append(chars[i][:height, 0:int((0.5)*width)])\n",
        "      plate_chars.append(chars[i][:height, int((0.5)*width):width])\n",
        "    else:\n",
        "      plate_chars.append(chars[i])\n",
        "\n",
        "  if len(plate_chars) == 5 and two_split:\n",
        "    min_val = plate_chars[4].size\n",
        "    min_index = 4\n",
        "    for i in range(4):\n",
        "      if plate_chars[i].size < min_val:\n",
        "        min_val =plate_chars[i].size\n",
        "        min_index = i\n",
        "    plate_chars.pop(min_index)\n",
        "  \n",
        "  first_char = cv.resize(plate_chars[0], (26,22), interpolation = cv.INTER_AREA)\n",
        "  second_char = cv.resize(plate_chars[1], (26,22), interpolation = cv.INTER_AREA)\n",
        "  first_num = cv.resize(plate_chars[2], (26,22), interpolation = cv.INTER_AREA)\n",
        "  second_num = cv.resize(plate_chars[3], (26,22), interpolation = cv.INTER_AREA)\n",
        "\n",
        "  # cv2_imshow(first_char)\n",
        "  # cv2_imshow(second_char)\n",
        "  # cv2_imshow(first_num)\n",
        "  # cv2_imshow(second_num)\n",
        "\n",
        "  return first_char,second_char, first_num, second_num, char1,char2,num1,num2\n",
        "\n",
        "\n",
        "\n",
        "  # cv2_imshow(first_char)\n",
        "  # print(\"height: \" + str(first_char.shape[0]))\n",
        "  # print(\"width: \" + str(first_char.shape[1]))\n",
        "  # print(\"\")\n",
        "  # cv2_imshow(second_char)\n",
        "  # print(\"height: \" + str(second_char.shape[0]))\n",
        "  # print(\"width: \" + str(second_char.shape[1]))\n",
        "  # print(\"\")\n",
        "  # cv2_imshow(first_num)\n",
        "  # print(\"height: \" + str(first_num.shape[0]))\n",
        "  # print(\"width: \" + str(first_num.shape[1]))\n",
        "  # print(\"\")\n",
        "  # cv2_imshow(second_num)\n",
        "  # print(\"height: \" + str(second_num.shape[0]))\n",
        "  # print(\"width: \" + str(second_num.shape[1]))\n",
        "  # print(\"\")"
      ],
      "metadata": {
        "id": "yHBbX_uwnzv8"
      },
      "execution_count": 8,
      "outputs": []
    },
    {
      "cell_type": "code",
      "execution_count": 9,
      "metadata": {
        "id": "Nwqfb4McQx0E"
      },
      "outputs": [],
      "source": [
        "#This returns the label of plate\n",
        "def returnLabel(string):\n",
        "    string1,letters,nums = re.split('_', string)\n",
        "    # print(string1)\n",
        "    # print(letters)\n",
        "    # print(nums)\n",
        "    char1 = letters[0]\n",
        "    char2 = letters[1]\n",
        "    num1 = nums[0]\n",
        "    num2 = nums[1]\n",
        "    return char1,char2,num1,num2"
      ]
    },
    {
      "cell_type": "code",
      "source": [
        "def asciitoindex(character):\n",
        "  if ord(character) - 65 >= 0:\n",
        "    return ord(character)-65 \n",
        "  else:\n",
        "    return ord(character)- 48"
      ],
      "metadata": {
        "id": "isWhi1_QQ0YV"
      },
      "execution_count": 10,
      "outputs": []
    },
    {
      "cell_type": "code",
      "source": [
        "# This creates the labelled hot encode arrays and the corresponding array of char images\n",
        "# It also creates the augmented data set, in a char array and num array, with shifts right, left, up and down\n",
        "# It also graph the spread of input data to the NN (commented code)\n",
        "\n",
        "def arrays_for_nn():\n",
        "  countTrainingSet = {\"A\" : 0, \"B\" : 0, \"C\" : 0, \"D\" : 0, \"E\" : 0, \"F\" : 0, \"G\" : 0, \"H\" : 0, \"I\" :0, \"J\" : 0, \"K\" :0, \n",
        "                      \"L\" :0, \"M\" :0, \"N\" :0, \"O\" :0, \"P\" :0, \"Q\" : 0, \"R\" :0, \"S\" :0, \"T\" :0, \"U\" :0, \"V\" :0, \"W\" : 0, \"X\" : 0, \"Y\" :0,\n",
        "                      \"Z\": 0, \"0\" : 0 , \"1\" : 0,\"2\" : 0,\"3\" : 0, \"4\" : 0, \"5\": 0, \"6\":0, \"7\": 0, \"8\": 0, \"9\":0}\n",
        "  charArray = []\n",
        "  charEncodeArray = []\n",
        "  numArray = []\n",
        "  numEncodeArray = []\n",
        "  x_shift = 0\n",
        "  y_shift = 0\n",
        "  x = [-5,-4,-3,-2,-1,0,1,2,3,4]\n",
        "  y = [-1,1,2,3]\n",
        "  for plate in range(285):\n",
        "    for x_shift in x:\n",
        "      first_char,second_char, first_num, second_num, char1,char2,num1,num2 = four_photo_return(plate, x_shift, y_shift)\n",
        "      charArray.append(first_char)\n",
        "      zeroArray = np.zeros(26)\n",
        "      zeroArray[asciitoindex(char1)] = 1\n",
        "      charEncodeArray.append(zeroArray)\n",
        "\n",
        "      charArray.append(second_char)\n",
        "      zeroArray = np.zeros(26)\n",
        "      zeroArray[asciitoindex(char2)] = 1\n",
        "      charEncodeArray.append(zeroArray)\n",
        "\n",
        "      numArray.append(first_num)\n",
        "      zeroArray = np.zeros(10)\n",
        "      zeroArray[asciitoindex(num1)] = 1\n",
        "      numEncodeArray.append(zeroArray)\n",
        "\n",
        "      numArray.append(second_num)\n",
        "      zeroArray = np.zeros(10)\n",
        "      zeroArray[asciitoindex(num2)] = 1\n",
        "      numEncodeArray.append(zeroArray)\n",
        "\n",
        "      # for letter in countTrainingSet.keys():\n",
        "      #   if char1 == letter:\n",
        "      #     countTrainingSet.update({letter: countTrainingSet.get(letter)+1})\n",
        "      #   if char2 == letter:\n",
        "      #     countTrainingSet.update({letter: countTrainingSet.get(letter)+1})\n",
        "      #   if num1 == letter:\n",
        "      #     countTrainingSet.update({letter: countTrainingSet.get(letter)+1})\n",
        "      #   if num2 == letter:\n",
        "      #     countTrainingSet.update({letter: countTrainingSet.get(letter)+1})\n",
        "    \n",
        "    x_shift = 0\n",
        "    for y_shift in y:\n",
        "      first_char,second_char, first_num, second_num, char1,char2,num1,num2 = four_photo_return(plate, x_shift, y_shift)\n",
        "      charArray.append(first_char)\n",
        "      zeroArray = np.zeros(26)\n",
        "      zeroArray[asciitoindex(char1)] = 1\n",
        "      charEncodeArray.append(zeroArray)\n",
        "\n",
        "      charArray.append(second_char)\n",
        "      zeroArray = np.zeros(26)\n",
        "      zeroArray[asciitoindex(char2)] = 1\n",
        "      charEncodeArray.append(zeroArray)\n",
        "\n",
        "      numArray.append(first_num)\n",
        "      zeroArray = np.zeros(10)\n",
        "      zeroArray[asciitoindex(num1)] = 1\n",
        "      numEncodeArray.append(zeroArray)\n",
        "\n",
        "      numArray.append(second_num)\n",
        "      zeroArray = np.zeros(10)\n",
        "      zeroArray[asciitoindex(num2)] = 1\n",
        "      numEncodeArray.append(zeroArray)\n",
        "\n",
        "  #     for letter in countTrainingSet.keys():\n",
        "  #       if char1 == letter:\n",
        "  #         countTrainingSet.update({letter: countTrainingSet.get(letter)+1})\n",
        "  #       if char2 == letter:\n",
        "  #         countTrainingSet.update({letter: countTrainingSet.get(letter)+1})\n",
        "  #       if num1 == letter:\n",
        "  #         countTrainingSet.update({letter: countTrainingSet.get(letter)+1})\n",
        "  #       if num2 == letter:\n",
        "  #         countTrainingSet.update({letter: countTrainingSet.get(letter)+1})\n",
        "\n",
        "  # plt.bar(countTrainingSet.keys(), countTrainingSet.values(), 5)\n",
        "  return charArray, charEncodeArray, numArray, numEncodeArray\n",
        "# print(len(charArray))\n",
        "# print(len(charEncodeArray))\n",
        "# print(len(numArray))\n",
        "# print(len(numEncodeArray))\n",
        "# for char in charArray:\n",
        "#   cv2_imshow(char)\n",
        "# print(charEncodeArray)\n",
        "# for num in numArray:\n",
        "#   cv2_imshow(num)\n",
        "# print(numEncodeArray)\n",
        "  "
      ],
      "metadata": {
        "id": "T_H0ZJOAJr-B"
      },
      "execution_count": 11,
      "outputs": []
    },
    {
      "cell_type": "markdown",
      "source": [
        "NEURAL NETWORK FOR CHARS THEN NUMS\n"
      ],
      "metadata": {
        "id": "dKJIR_anP9dv"
      }
    },
    {
      "cell_type": "code",
      "source": [
        "# neural net validation split 0.2\n",
        "VALIDATION_SPLIT = 0.2\n",
        "%tensorflow_version 1.14.0\n",
        "\n",
        "from tensorflow.keras import layers\n",
        "from tensorflow.keras import models\n",
        "from tensorflow.keras import optimizers\n",
        "\n",
        "from tensorflow.keras.utils import plot_model\n",
        "from tensorflow.keras import backend"
      ],
      "metadata": {
        "id": "sVOd7P_Crdkg",
        "colab": {
          "base_uri": "https://localhost:8080/"
        },
        "outputId": "77040129-2a33-4419-f5fe-6eca89f0e17a"
      },
      "execution_count": 12,
      "outputs": [
        {
          "output_type": "stream",
          "name": "stdout",
          "text": [
            "`%tensorflow_version` only switches the major version: 1.x or 2.x.\n",
            "You set: `1.14.0`. This will be interpreted as: `1.x`.\n",
            "\n",
            "\n",
            "TensorFlow 1.x selected.\n"
          ]
        }
      ]
    },
    {
      "cell_type": "code",
      "source": [
        "def reset_weights(model):\n",
        "    session = backend.get_session()\n",
        "    for layer in model.layers: \n",
        "        if hasattr(layer, 'kernel_initializer'):\n",
        "            layer.kernel.initializer.run(session=session)"
      ],
      "metadata": {
        "id": "azIglnejNO05"
      },
      "execution_count": 13,
      "outputs": []
    },
    {
      "cell_type": "markdown",
      "source": [
        "Char NN\n"
      ],
      "metadata": {
        "id": "YEQABeVDMvIu"
      }
    },
    {
      "cell_type": "code",
      "source": [
        "char_model = models.Sequential()\n",
        "char_model.add(layers.Conv2D(32, (3, 3), activation='relu',\n",
        "                             input_shape=(26,22,1)))\n",
        "char_model.add(layers.MaxPooling2D((2, 2)))\n",
        "char_model.add(layers.Conv2D(64, (3, 3), activation='relu'))\n",
        "char_model.add(layers.MaxPooling2D((2, 2)))\n",
        "char_model.add(layers.Flatten())\n",
        "char_model.add(layers.Dropout(0.5))\n",
        "char_model.add(layers.Dense(512, activation='relu'))\n",
        "char_model.add(layers.Dense(26, activation='softmax'))\n",
        "char_model.summary()\n",
        "\n",
        "# this model was no good\n",
        "\n",
        "# char_model = models.Sequential()\n",
        "# char_model.add(layers.Conv2D(32, (3, 3), activation='relu',\n",
        "#                              input_shape=(26, 22, 1)))\n",
        "# char_model.add(layers.MaxPooling2D((2, 2)))\n",
        "# char_model.add(layers.Conv2D(64, (3, 3), activation='relu'))\n",
        "# char_model.add(layers.MaxPooling2D((2, 2)))\n",
        "# char_model.add(layers.Conv2D(128, (3, 3), activation='relu'))\n",
        "# char_model.add(layers.MaxPooling2D((2, 2)))\n",
        "# char_model.add(layers.Conv2D(128, (1, 1), activation='relu'))\n",
        "# char_model.add(layers.MaxPooling2D((1, 1)))\n",
        "# char_model.add(layers.Flatten())\n",
        "# char_model.add(layers.Dropout(0.5))\n",
        "# char_model.add(layers.Dense(512, activation='relu'))\n",
        "# char_model.add(layers.Dense(26, activation='softmax'))"
      ],
      "metadata": {
        "colab": {
          "base_uri": "https://localhost:8080/"
        },
        "id": "_xg4YCM7Mx9q",
        "outputId": "83862a8a-5576-44e5-bde4-7bf118fb8ab7"
      },
      "execution_count": 14,
      "outputs": [
        {
          "output_type": "stream",
          "name": "stdout",
          "text": [
            "WARNING:tensorflow:From /tensorflow-1.15.2/python3.7/tensorflow_core/python/ops/resource_variable_ops.py:1630: calling BaseResourceVariable.__init__ (from tensorflow.python.ops.resource_variable_ops) with constraint is deprecated and will be removed in a future version.\n",
            "Instructions for updating:\n",
            "If using Keras pass *_constraint arguments to layers.\n",
            "Model: \"sequential\"\n",
            "_________________________________________________________________\n",
            "Layer (type)                 Output Shape              Param #   \n",
            "=================================================================\n",
            "conv2d (Conv2D)              (None, 24, 20, 32)        320       \n",
            "_________________________________________________________________\n",
            "max_pooling2d (MaxPooling2D) (None, 12, 10, 32)        0         \n",
            "_________________________________________________________________\n",
            "conv2d_1 (Conv2D)            (None, 10, 8, 64)         18496     \n",
            "_________________________________________________________________\n",
            "max_pooling2d_1 (MaxPooling2 (None, 5, 4, 64)          0         \n",
            "_________________________________________________________________\n",
            "flatten (Flatten)            (None, 1280)              0         \n",
            "_________________________________________________________________\n",
            "dropout (Dropout)            (None, 1280)              0         \n",
            "_________________________________________________________________\n",
            "dense (Dense)                (None, 512)               655872    \n",
            "_________________________________________________________________\n",
            "dense_1 (Dense)              (None, 26)                13338     \n",
            "=================================================================\n",
            "Total params: 688,026\n",
            "Trainable params: 688,026\n",
            "Non-trainable params: 0\n",
            "_________________________________________________________________\n"
          ]
        }
      ]
    },
    {
      "cell_type": "code",
      "source": [
        "LEARNING_RATE = 1e-4\n",
        "char_model.compile(loss='categorical_crossentropy',\n",
        "                   optimizer=optimizers.RMSprop(lr=LEARNING_RATE),\n",
        "                   metrics=['acc'])"
      ],
      "metadata": {
        "id": "FrjvWSoQNRoj"
      },
      "execution_count": 15,
      "outputs": []
    },
    {
      "cell_type": "code",
      "source": [
        "reset_weights(char_model)\n",
        "charArray, charEncodeArray, numArray, numEncodeArray = arrays_for_nn()\n",
        "print(len(charArray))\n",
        "charArray = np.asarray(charArray)\n",
        "charEncodeArray = np.asarray(charEncodeArray)\n",
        "charArray = charArray.reshape((-1, 26, 22, 1))\n",
        "\n",
        "history_conv_chars = char_model.fit(charArray, charEncodeArray, \n",
        "                              validation_split=VALIDATION_SPLIT,\n",
        "                              epochs=30, \n",
        "                              batch_size=100)"
      ],
      "metadata": {
        "colab": {
          "base_uri": "https://localhost:8080/"
        },
        "id": "S099Ss55OMUC",
        "outputId": "7d01a9b3-a91f-421f-e8ab-83dba981cbdf"
      },
      "execution_count": 16,
      "outputs": [
        {
          "output_type": "stream",
          "name": "stdout",
          "text": [
            "7980\n",
            "Train on 6384 samples, validate on 1596 samples\n",
            "Epoch 1/30\n",
            "6384/6384 [==============================] - 4s 679us/sample - loss: 15.1916 - acc: 0.0486 - val_loss: 3.1586 - val_acc: 0.1429\n",
            "Epoch 2/30\n",
            "6384/6384 [==============================] - 1s 88us/sample - loss: 3.1564 - acc: 0.1919 - val_loss: 2.2120 - val_acc: 0.4693\n",
            "Epoch 3/30\n",
            "6384/6384 [==============================] - 1s 85us/sample - loss: 1.9532 - acc: 0.4710 - val_loss: 1.3817 - val_acc: 0.6779\n",
            "Epoch 4/30\n",
            "6384/6384 [==============================] - 1s 88us/sample - loss: 1.3351 - acc: 0.6388 - val_loss: 1.0352 - val_acc: 0.7632\n",
            "Epoch 5/30\n",
            "6384/6384 [==============================] - 1s 85us/sample - loss: 0.9936 - acc: 0.7304 - val_loss: 0.7716 - val_acc: 0.8152\n",
            "Epoch 6/30\n",
            "6384/6384 [==============================] - 1s 86us/sample - loss: 0.7711 - acc: 0.7942 - val_loss: 0.6584 - val_acc: 0.8315\n",
            "Epoch 7/30\n",
            "6384/6384 [==============================] - 1s 84us/sample - loss: 0.6062 - acc: 0.8379 - val_loss: 0.5142 - val_acc: 0.8741\n",
            "Epoch 8/30\n",
            "6384/6384 [==============================] - 1s 85us/sample - loss: 0.4912 - acc: 0.8694 - val_loss: 0.4300 - val_acc: 0.8922\n",
            "Epoch 9/30\n",
            "6384/6384 [==============================] - 1s 87us/sample - loss: 0.4177 - acc: 0.8863 - val_loss: 0.3931 - val_acc: 0.9066\n",
            "Epoch 10/30\n",
            "6384/6384 [==============================] - 1s 84us/sample - loss: 0.3464 - acc: 0.9060 - val_loss: 0.3417 - val_acc: 0.9098\n",
            "Epoch 11/30\n",
            "6384/6384 [==============================] - 1s 86us/sample - loss: 0.3033 - acc: 0.9192 - val_loss: 0.3255 - val_acc: 0.9217\n",
            "Epoch 12/30\n",
            "6384/6384 [==============================] - 1s 86us/sample - loss: 0.2700 - acc: 0.9270 - val_loss: 0.3949 - val_acc: 0.9104\n",
            "Epoch 13/30\n",
            "6384/6384 [==============================] - 1s 85us/sample - loss: 0.2291 - acc: 0.9389 - val_loss: 0.2855 - val_acc: 0.9373\n",
            "Epoch 14/30\n",
            "6384/6384 [==============================] - 1s 85us/sample - loss: 0.1980 - acc: 0.9449 - val_loss: 0.2708 - val_acc: 0.9405\n",
            "Epoch 15/30\n",
            "6384/6384 [==============================] - 1s 86us/sample - loss: 0.1856 - acc: 0.9483 - val_loss: 0.2396 - val_acc: 0.9474\n",
            "Epoch 16/30\n",
            "6384/6384 [==============================] - 1s 84us/sample - loss: 0.1631 - acc: 0.9571 - val_loss: 0.2548 - val_acc: 0.9442\n",
            "Epoch 17/30\n",
            "6384/6384 [==============================] - 1s 82us/sample - loss: 0.1530 - acc: 0.9601 - val_loss: 0.2249 - val_acc: 0.9474\n",
            "Epoch 18/30\n",
            "6384/6384 [==============================] - 1s 82us/sample - loss: 0.1304 - acc: 0.9644 - val_loss: 0.2768 - val_acc: 0.9386\n",
            "Epoch 19/30\n",
            "6384/6384 [==============================] - 1s 83us/sample - loss: 0.1164 - acc: 0.9710 - val_loss: 0.3374 - val_acc: 0.9229\n",
            "Epoch 20/30\n",
            "6384/6384 [==============================] - 1s 84us/sample - loss: 0.1084 - acc: 0.9690 - val_loss: 0.2181 - val_acc: 0.9511\n",
            "Epoch 21/30\n",
            "6384/6384 [==============================] - 1s 81us/sample - loss: 0.1005 - acc: 0.9723 - val_loss: 0.2224 - val_acc: 0.9511\n",
            "Epoch 22/30\n",
            "6384/6384 [==============================] - 1s 83us/sample - loss: 0.0852 - acc: 0.9760 - val_loss: 0.2390 - val_acc: 0.9524\n",
            "Epoch 23/30\n",
            "6384/6384 [==============================] - 1s 87us/sample - loss: 0.0924 - acc: 0.9713 - val_loss: 0.2337 - val_acc: 0.9461\n",
            "Epoch 24/30\n",
            "6384/6384 [==============================] - 1s 82us/sample - loss: 0.0825 - acc: 0.9771 - val_loss: 0.2094 - val_acc: 0.9524\n",
            "Epoch 25/30\n",
            "6384/6384 [==============================] - 1s 82us/sample - loss: 0.0715 - acc: 0.9809 - val_loss: 0.2426 - val_acc: 0.9555\n",
            "Epoch 26/30\n",
            "6384/6384 [==============================] - 1s 85us/sample - loss: 0.0666 - acc: 0.9848 - val_loss: 0.3906 - val_acc: 0.9091\n",
            "Epoch 27/30\n",
            "6384/6384 [==============================] - 1s 82us/sample - loss: 0.0651 - acc: 0.9826 - val_loss: 0.2187 - val_acc: 0.9480\n",
            "Epoch 28/30\n",
            "6384/6384 [==============================] - 1s 85us/sample - loss: 0.0558 - acc: 0.9864 - val_loss: 0.1774 - val_acc: 0.9624\n",
            "Epoch 29/30\n",
            "6384/6384 [==============================] - 1s 82us/sample - loss: 0.0601 - acc: 0.9842 - val_loss: 0.1873 - val_acc: 0.9643\n",
            "Epoch 30/30\n",
            "6384/6384 [==============================] - 1s 87us/sample - loss: 0.0513 - acc: 0.9883 - val_loss: 0.2196 - val_acc: 0.9530\n"
          ]
        }
      ]
    },
    {
      "cell_type": "code",
      "source": [
        "plt.plot(history_conv_chars.history['loss'])\n",
        "plt.plot(history_conv_chars.history['val_loss'])\n",
        "plt.title('model loss chars')\n",
        "plt.ylabel('loss')\n",
        "plt.xlabel('epoch')\n",
        "plt.legend(['train loss', 'val loss'], loc='upper left')\n",
        "plt.show()"
      ],
      "metadata": {
        "colab": {
          "base_uri": "https://localhost:8080/",
          "height": 295
        },
        "id": "qOuv6AaETYyS",
        "outputId": "e73cfe8a-6a33-4f25-83b2-38db5cc6d709"
      },
      "execution_count": 17,
      "outputs": [
        {
          "output_type": "display_data",
          "data": {
            "image/png": "[encoded data removed]",
            "text/plain": [
              "<Figure size 432x288 with 1 Axes>"
            ]
          },
          "metadata": {
            "needs_background": "light"
          }
        }
      ]
    },
    {
      "cell_type": "code",
      "source": [
        "plt.plot(history_conv_chars.history['acc'])\n",
        "plt.plot(history_conv_chars.history['val_acc'])\n",
        "plt.title('chars model accuracy')\n",
        "plt.ylabel('accuracy (%)')\n",
        "plt.xlabel('epoch')\n",
        "plt.legend(['train accuracy', 'val accuracy'], loc='upper left')\n",
        "plt.show()"
      ],
      "metadata": {
        "colab": {
          "base_uri": "https://localhost:8080/",
          "height": 295
        },
        "id": "R3BwkyuSTo32",
        "outputId": "e8b51b3d-75db-435f-bad4-48e14a66c8ec"
      },
      "execution_count": 18,
      "outputs": [
        {
          "output_type": "display_data",
          "data": {
            "image/png": "[encoded data removed]",
            "text/plain": [
              "<Figure size 432x288 with 1 Axes>"
            ]
          },
          "metadata": {
            "needs_background": "light"
          }
        }
      ]
    },
    {
      "cell_type": "code",
      "source": [
        "from sklearn.metrics import confusion_matrix, ConfusionMatrixDisplay\n",
        "#characters = \"ABCDEFGHIJKLMNOPQRSTUVWXYZ0123456789\"\n",
        "characters = \"ABCDEFGHIJKLMNOPQRSTUVWXYZ\"\n",
        "true = charEncodeArray\n",
        "true_char = [characters[np.argmax(i)] for i in true]\n",
        "\n",
        "predicted = char_model.predict(charArray)\n",
        "predicted_char = [characters[np.argmax(i)] for i in predicted]\n",
        "\n",
        "cm = confusion_matrix(true_char, predicted_char, labels=list(characters))\n",
        "cm_display = ConfusionMatrixDisplay(confusion_matrix=cm,display_labels=list(characters))\n",
        "\n",
        "fig, ax = plt.subplots(figsize=(10,10))\n",
        "cm_display.plot(ax=ax)\n",
        "plt.show()"
      ],
      "metadata": {
        "colab": {
          "base_uri": "https://localhost:8080/",
          "height": 580
        },
        "id": "VjcOt5fdTr_i",
        "outputId": "9e307896-4aa8-4a8a-8495-427494686af2"
      },
      "execution_count": 19,
      "outputs": [
        {
          "output_type": "display_data",
          "data": {
            "image/png": "[encoded data removed]",
            "text/plain": [
              "<Figure size 720x720 with 2 Axes>"
            ]
          },
          "metadata": {
            "needs_background": "light"
          }
        }
      ]
    },
    {
      "cell_type": "code",
      "source": [
        "\n",
        "#!pip install h5py==2.10.0 --force-reinstall"
      ],
      "metadata": {
        "id": "xwZULAVzHAsi"
      },
      "execution_count": 20,
      "outputs": []
    },
    {
      "cell_type": "code",
      "source": [
        "char_model.save('char_nn')"
      ],
      "metadata": {
        "id": "pktokcyx1q2q"
      },
      "execution_count": 21,
      "outputs": []
    },
    {
      "cell_type": "markdown",
      "source": [
        "Number NN"
      ],
      "metadata": {
        "id": "_lLL2zzS8_jO"
      }
    },
    {
      "cell_type": "code",
      "source": [
        "num_model= models.Sequential()\n",
        "num_model.add(layers.Conv2D(32, (3, 3), activation='relu',\n",
        "                             input_shape=(26,22,1)))\n",
        "# size of image\n",
        "num_model.add(layers.MaxPooling2D((2, 2)))\n",
        "num_model.add(layers.Conv2D(64, (3, 3), activation='relu'))\n",
        "num_model.add(layers.MaxPooling2D((2, 2)))\n",
        "num_model.add(layers.Flatten())\n",
        "num_model.add(layers.Dropout(0.5))\n",
        "num_model.add(layers.Dense(512, activation='relu'))\n",
        "num_model.add(layers.Dense(10, activation='softmax'))\n",
        "num_model.summary()"
      ],
      "metadata": {
        "colab": {
          "base_uri": "https://localhost:8080/"
        },
        "id": "2Tw4fv-H9BG1",
        "outputId": "92758fb4-ad4c-4837-afeb-49acc654a30d"
      },
      "execution_count": 22,
      "outputs": [
        {
          "output_type": "stream",
          "name": "stdout",
          "text": [
            "Model: \"sequential_1\"\n",
            "_________________________________________________________________\n",
            "Layer (type)                 Output Shape              Param #   \n",
            "=================================================================\n",
            "conv2d_2 (Conv2D)            (None, 24, 20, 32)        320       \n",
            "_________________________________________________________________\n",
            "max_pooling2d_2 (MaxPooling2 (None, 12, 10, 32)        0         \n",
            "_________________________________________________________________\n",
            "conv2d_3 (Conv2D)            (None, 10, 8, 64)         18496     \n",
            "_________________________________________________________________\n",
            "max_pooling2d_3 (MaxPooling2 (None, 5, 4, 64)          0         \n",
            "_________________________________________________________________\n",
            "flatten_1 (Flatten)          (None, 1280)              0         \n",
            "_________________________________________________________________\n",
            "dropout_1 (Dropout)          (None, 1280)              0         \n",
            "_________________________________________________________________\n",
            "dense_2 (Dense)              (None, 512)               655872    \n",
            "_________________________________________________________________\n",
            "dense_3 (Dense)              (None, 10)                5130      \n",
            "=================================================================\n",
            "Total params: 679,818\n",
            "Trainable params: 679,818\n",
            "Non-trainable params: 0\n",
            "_________________________________________________________________\n"
          ]
        }
      ]
    },
    {
      "cell_type": "code",
      "source": [
        "LEARNING_RATE = 1e-4\n",
        "num_model.compile(loss='categorical_crossentropy',\n",
        "                   optimizer=optimizers.RMSprop(lr=LEARNING_RATE),\n",
        "                   metrics=['acc'])"
      ],
      "metadata": {
        "id": "_CGmAKVO9PWA"
      },
      "execution_count": 23,
      "outputs": []
    },
    {
      "cell_type": "code",
      "source": [
        "reset_weights(num_model)\n",
        "charArray2, charEncodeArray2, numArray2, numEncodeArray2 = arrays_for_nn()\n",
        "print(len(numArray2))\n",
        "numArray2 = np.asarray(numArray2)\n",
        "numEncodeArray2 = np.asarray(numEncodeArray2)\n",
        "numArray2 = numArray2.reshape((-1, 26, 22, 1))\n",
        "\n",
        "history_conv_nums = num_model.fit(numArray2, numEncodeArray2, \n",
        "                              validation_split=VALIDATION_SPLIT,\n",
        "                              epochs=33, \n",
        "                              batch_size=200)"
      ],
      "metadata": {
        "id": "jsN51H249R2e",
        "colab": {
          "base_uri": "https://localhost:8080/"
        },
        "outputId": "7c69becf-a755-4825-d483-36b1df938370"
      },
      "execution_count": 24,
      "outputs": [
        {
          "output_type": "stream",
          "name": "stdout",
          "text": [
            "7980\n",
            "Train on 6384 samples, validate on 1596 samples\n",
            "Epoch 1/33\n",
            "6384/6384 [==============================] - 1s 123us/sample - loss: 6.9160 - acc: 0.1225 - val_loss: 2.2831 - val_acc: 0.2481\n",
            "Epoch 2/33\n",
            "6384/6384 [==============================] - 0s 57us/sample - loss: 2.4049 - acc: 0.2910 - val_loss: 1.3026 - val_acc: 0.6798\n",
            "Epoch 3/33\n",
            "6384/6384 [==============================] - 0s 57us/sample - loss: 1.3291 - acc: 0.5843 - val_loss: 0.8396 - val_acc: 0.8133\n",
            "Epoch 4/33\n",
            "6384/6384 [==============================] - 0s 55us/sample - loss: 0.9173 - acc: 0.7395 - val_loss: 0.5433 - val_acc: 0.8910\n",
            "Epoch 5/33\n",
            "6384/6384 [==============================] - 0s 54us/sample - loss: 0.6556 - acc: 0.8188 - val_loss: 0.4019 - val_acc: 0.9204\n",
            "Epoch 6/33\n",
            "6384/6384 [==============================] - 0s 54us/sample - loss: 0.4876 - acc: 0.8717 - val_loss: 0.3795 - val_acc: 0.9091\n",
            "Epoch 7/33\n",
            "6384/6384 [==============================] - 0s 56us/sample - loss: 0.3823 - acc: 0.8968 - val_loss: 0.2523 - val_acc: 0.9449\n",
            "Epoch 8/33\n",
            "6384/6384 [==============================] - 0s 54us/sample - loss: 0.3080 - acc: 0.9185 - val_loss: 0.2256 - val_acc: 0.9486\n",
            "Epoch 9/33\n",
            "6384/6384 [==============================] - 0s 53us/sample - loss: 0.2591 - acc: 0.9336 - val_loss: 0.1701 - val_acc: 0.9612\n",
            "Epoch 10/33\n",
            "6384/6384 [==============================] - 0s 55us/sample - loss: 0.2156 - acc: 0.9424 - val_loss: 0.1353 - val_acc: 0.9662\n",
            "Epoch 11/33\n",
            "6384/6384 [==============================] - 0s 53us/sample - loss: 0.1873 - acc: 0.9539 - val_loss: 0.1420 - val_acc: 0.9668\n",
            "Epoch 12/33\n",
            "6384/6384 [==============================] - 0s 53us/sample - loss: 0.1491 - acc: 0.9632 - val_loss: 0.1225 - val_acc: 0.9712\n",
            "Epoch 13/33\n",
            "6384/6384 [==============================] - 0s 56us/sample - loss: 0.1395 - acc: 0.9649 - val_loss: 0.1326 - val_acc: 0.9712\n",
            "Epoch 14/33\n",
            "6384/6384 [==============================] - 0s 54us/sample - loss: 0.1241 - acc: 0.9671 - val_loss: 0.0899 - val_acc: 0.9768\n",
            "Epoch 15/33\n",
            "6384/6384 [==============================] - 0s 56us/sample - loss: 0.1123 - acc: 0.9726 - val_loss: 0.0977 - val_acc: 0.9743\n",
            "Epoch 16/33\n",
            "6384/6384 [==============================] - 0s 54us/sample - loss: 0.1055 - acc: 0.9727 - val_loss: 0.1140 - val_acc: 0.9655\n",
            "Epoch 17/33\n",
            "6384/6384 [==============================] - 0s 54us/sample - loss: 0.0928 - acc: 0.9770 - val_loss: 0.0857 - val_acc: 0.9793\n",
            "Epoch 18/33\n",
            "6384/6384 [==============================] - 0s 55us/sample - loss: 0.0843 - acc: 0.9774 - val_loss: 0.0754 - val_acc: 0.9793\n",
            "Epoch 19/33\n",
            "6384/6384 [==============================] - 0s 53us/sample - loss: 0.0788 - acc: 0.9807 - val_loss: 0.0688 - val_acc: 0.9812\n",
            "Epoch 20/33\n",
            "6384/6384 [==============================] - 0s 54us/sample - loss: 0.0664 - acc: 0.9851 - val_loss: 0.0834 - val_acc: 0.9781\n",
            "Epoch 21/33\n",
            "6384/6384 [==============================] - 0s 55us/sample - loss: 0.0712 - acc: 0.9795 - val_loss: 0.0669 - val_acc: 0.9818\n",
            "Epoch 22/33\n",
            "6384/6384 [==============================] - 0s 53us/sample - loss: 0.0615 - acc: 0.9846 - val_loss: 0.0769 - val_acc: 0.9818\n",
            "Epoch 23/33\n",
            "6384/6384 [==============================] - 0s 53us/sample - loss: 0.0573 - acc: 0.9848 - val_loss: 0.0714 - val_acc: 0.9825\n",
            "Epoch 24/33\n",
            "6384/6384 [==============================] - 0s 55us/sample - loss: 0.0585 - acc: 0.9851 - val_loss: 0.0836 - val_acc: 0.9825\n",
            "Epoch 25/33\n",
            "6384/6384 [==============================] - 0s 54us/sample - loss: 0.0534 - acc: 0.9864 - val_loss: 0.0602 - val_acc: 0.9818\n",
            "Epoch 26/33\n",
            "6384/6384 [==============================] - 0s 53us/sample - loss: 0.0531 - acc: 0.9859 - val_loss: 0.0708 - val_acc: 0.9812\n",
            "Epoch 27/33\n",
            "6384/6384 [==============================] - 0s 55us/sample - loss: 0.0414 - acc: 0.9898 - val_loss: 0.0694 - val_acc: 0.9825\n",
            "Epoch 28/33\n",
            "6384/6384 [==============================] - 0s 54us/sample - loss: 0.0458 - acc: 0.9881 - val_loss: 0.0641 - val_acc: 0.9825\n",
            "Epoch 29/33\n",
            "6384/6384 [==============================] - 0s 54us/sample - loss: 0.0431 - acc: 0.9892 - val_loss: 0.0612 - val_acc: 0.9812\n",
            "Epoch 30/33\n",
            "6384/6384 [==============================] - 0s 54us/sample - loss: 0.0394 - acc: 0.9892 - val_loss: 0.0689 - val_acc: 0.9837\n",
            "Epoch 31/33\n",
            "6384/6384 [==============================] - 0s 54us/sample - loss: 0.0374 - acc: 0.9912 - val_loss: 0.0678 - val_acc: 0.9818\n",
            "Epoch 32/33\n",
            "6384/6384 [==============================] - 0s 54us/sample - loss: 0.0355 - acc: 0.9915 - val_loss: 0.0711 - val_acc: 0.9818\n",
            "Epoch 33/33\n",
            "6384/6384 [==============================] - 0s 54us/sample - loss: 0.0312 - acc: 0.9919 - val_loss: 0.0644 - val_acc: 0.9806\n"
          ]
        }
      ]
    },
    {
      "cell_type": "code",
      "source": [
        "plt.plot(history_conv_nums.history['loss'])\n",
        "plt.plot(history_conv_nums.history['val_loss'])\n",
        "plt.title('num model loss')\n",
        "plt.ylabel('loss')\n",
        "plt.xlabel('epoch')\n",
        "plt.legend(['train loss', 'val loss'], loc='upper left')\n",
        "plt.show()"
      ],
      "metadata": {
        "colab": {
          "base_uri": "https://localhost:8080/",
          "height": 295
        },
        "id": "Fn7RprOP9UEo",
        "outputId": "87dc3198-5915-4b48-b59d-18fc1d975723"
      },
      "execution_count": 25,
      "outputs": [
        {
          "output_type": "display_data",
          "data": {
            "image/png": "[encoded data removed]",
            "text/plain": [
              "<Figure size 432x288 with 1 Axes>"
            ]
          },
          "metadata": {
            "needs_background": "light"
          }
        }
      ]
    },
    {
      "cell_type": "code",
      "source": [
        "plt.plot(history_conv_nums.history['acc'])\n",
        "plt.plot(history_conv_nums.history['val_acc'])\n",
        "plt.title('num model accuracy')\n",
        "plt.ylabel('accuracy (%)')\n",
        "plt.xlabel('epoch')\n",
        "plt.legend(['train accuracy', 'val accuracy'], loc='upper left')\n",
        "plt.show()"
      ],
      "metadata": {
        "colab": {
          "base_uri": "https://localhost:8080/",
          "height": 295
        },
        "id": "I4gl-Xyz9XlC",
        "outputId": "5f41ac56-e9ef-4965-b991-0f3f95b54651"
      },
      "execution_count": 26,
      "outputs": [
        {
          "output_type": "display_data",
          "data": {
            "image/png": "[encoded data removed]",
            "text/plain": [
              "<Figure size 432x288 with 1 Axes>"
            ]
          },
          "metadata": {
            "needs_background": "light"
          }
        }
      ]
    },
    {
      "cell_type": "code",
      "source": [
        "from sklearn.metrics import confusion_matrix, ConfusionMatrixDisplay\n",
        "#characters = \"ABCDEFGHIJKLMNOPQRSTUVWXYZ0123456789\"\n",
        "characters = \"0123456789\"\n",
        "true = numEncodeArray2\n",
        "true_num = [characters[np.argmax(i)] for i in true]\n",
        "\n",
        "predicted = num_model.predict(numArray2)\n",
        "predicted_num = [characters[np.argmax(i)] for i in predicted]\n",
        "\n",
        "\n",
        "cm = confusion_matrix(true_num, predicted_num, labels=list(characters))\n",
        "cm_display = ConfusionMatrixDisplay(confusion_matrix=cm,display_labels=list(characters))\n",
        "\n",
        "\n",
        "fig, ax = plt.subplots(figsize=(10,10))\n",
        "cm_display.plot(ax=ax)\n",
        "plt.show()"
      ],
      "metadata": {
        "colab": {
          "base_uri": "https://localhost:8080/",
          "height": 580
        },
        "id": "LFy8pmUi9cJy",
        "outputId": "2a8670c0-3942-4394-e112-f84804704431"
      },
      "execution_count": 27,
      "outputs": [
        {
          "output_type": "display_data",
          "data": {
            "image/png": "[encoded data removed]",
            "text/plain": [
              "<Figure size 720x720 with 2 Axes>"
            ]
          },
          "metadata": {
            "needs_background": "light"
          }
        }
      ]
    },
    {
      "cell_type": "code",
      "source": [
        "num_model.save('num_nn')"
      ],
      "metadata": {
        "id": "4yxyKKP6In_9"
      },
      "execution_count": 28,
      "outputs": []
    },
    {
      "cell_type": "code",
      "source": [
        "# bits of pieces of code needed for integration into simulation\n",
        "img_aug = np.expand_dims(img, axis=0)\n",
        "y_predict = conv_model.predict(img_aug)[0]\n",
        "\n",
        "predicted = num_model.predict(numArray2)\n",
        "predicted_num = [characters[np.argmax(i)] for i in predicted]\n",
        "\n",
        "print(predicted[0])\n",
        "print(predicted_num[0])\n",
        "\n",
        "characters = \"ABCDEFGHIJKLMNOPQRSTUVWXYZ\"\n",
        "true = charEncodeArray\n",
        "true_char = [characters[np.argmax(i)] for i in true]\n",
        "\n",
        "predicted = char_model.predict(charArray)\n",
        "predicted_char = [characters[np.argmax(i)] for i in predicted]\n",
        "\n",
        "print(predicted[1])\n",
        "print(predicted_char[1])\n",
        "\n",
        "# now just need to find how to properly save"
      ],
      "metadata": {
        "id": "3HEL9SSta7wv",
        "colab": {
          "base_uri": "https://localhost:8080/",
          "height": 232
        },
        "outputId": "62b4acfa-a44d-4638-d482-7a1ad8cced55"
      },
      "execution_count": 29,
      "outputs": [
        {
          "output_type": "error",
          "ename": "NameError",
          "evalue": "ignored",
          "traceback": [
            "\u001b[0;31m---------------------------------------------------------------------------\u001b[0m",
            "\u001b[0;31mNameError\u001b[0m                                 Traceback (most recent call last)",
            "\u001b[0;32m<ipython-input-29-5616fc56358a>\u001b[0m in \u001b[0;36m<module>\u001b[0;34m()\u001b[0m\n\u001b[1;32m      1\u001b[0m \u001b[0;31m# bits of pieces of code needed for integration into simulation\u001b[0m\u001b[0;34m\u001b[0m\u001b[0;34m\u001b[0m\u001b[0;34m\u001b[0m\u001b[0m\n\u001b[0;32m----> 2\u001b[0;31m \u001b[0mimg_aug\u001b[0m \u001b[0;34m=\u001b[0m \u001b[0mnp\u001b[0m\u001b[0;34m.\u001b[0m\u001b[0mexpand_dims\u001b[0m\u001b[0;34m(\u001b[0m\u001b[0mimg\u001b[0m\u001b[0;34m,\u001b[0m \u001b[0maxis\u001b[0m\u001b[0;34m=\u001b[0m\u001b[0;36m0\u001b[0m\u001b[0;34m)\u001b[0m\u001b[0;34m\u001b[0m\u001b[0;34m\u001b[0m\u001b[0m\n\u001b[0m\u001b[1;32m      3\u001b[0m \u001b[0my_predict\u001b[0m \u001b[0;34m=\u001b[0m \u001b[0mconv_model\u001b[0m\u001b[0;34m.\u001b[0m\u001b[0mpredict\u001b[0m\u001b[0;34m(\u001b[0m\u001b[0mimg_aug\u001b[0m\u001b[0;34m)\u001b[0m\u001b[0;34m[\u001b[0m\u001b[0;36m0\u001b[0m\u001b[0;34m]\u001b[0m\u001b[0;34m\u001b[0m\u001b[0;34m\u001b[0m\u001b[0m\n\u001b[1;32m      4\u001b[0m \u001b[0;34m\u001b[0m\u001b[0m\n\u001b[1;32m      5\u001b[0m \u001b[0mpredicted\u001b[0m \u001b[0;34m=\u001b[0m \u001b[0mnum_model\u001b[0m\u001b[0;34m.\u001b[0m\u001b[0mpredict\u001b[0m\u001b[0;34m(\u001b[0m\u001b[0mnumArray2\u001b[0m\u001b[0;34m)\u001b[0m\u001b[0;34m\u001b[0m\u001b[0;34m\u001b[0m\u001b[0m\n",
            "\u001b[0;31mNameError\u001b[0m: name 'img' is not defined"
          ]
        }
      ]
    }
  ]
}
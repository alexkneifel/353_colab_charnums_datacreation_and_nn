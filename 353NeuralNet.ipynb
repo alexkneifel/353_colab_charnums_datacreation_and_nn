{
  "nbformat": 4,
  "nbformat_minor": 0,
  "metadata": {
    "colab": {
      "name": "353NeuralNet.ipynb",
      "provenance": [],
      "collapsed_sections": [],
      "mount_file_id": "1fAkMvF2_nI0yPwwFrkl-Aoi7yy-2q5yP",
      "authorship_tag": "ABX9TyPZfKYBkHvJwJftLCslMyq1",
      "include_colab_link": true
    },
    "kernelspec": {
      "name": "python3",
      "display_name": "Python 3"
    },
    "language_info": {
      "name": "python"
    }
  },
  "cells": [
    {
      "cell_type": "markdown",
      "metadata": {
        "id": "view-in-github",
        "colab_type": "text"
      },
      "source": [
        "<a href=\"https://colab.research.google.com/github/alexkneifel/353_colab_datacreation_and_nn/blob/main/353NeuralNet.ipynb\" target=\"_parent\"><img src=\"https://colab.research.google.com/assets/colab-badge.svg\" alt=\"Open In Colab\"/></a>"
      ]
    },
    {
      "cell_type": "code",
      "source": [
        "import math\n",
        "import numpy as np\n",
        "import re\n",
        "import string\n",
        "import os\n",
        "import cv2 as cv\n",
        "from google.colab.patches import cv2_imshow\n",
        "\n",
        "from collections import Counter\n",
        "from matplotlib import pyplot as plt\n",
        "\n",
        "import random\n",
        "from random import randint\n",
        "from PIL import Image, ImageFont, ImageDraw, ImageOps\n",
        "\n",
        "from os import pathconf\n",
        "\n",
        "#from tensorflow.keras.preprocessing import image\n"
      ],
      "metadata": {
        "id": "wx5Erl_yZi-X"
      },
      "execution_count": null,
      "outputs": []
    },
    {
      "cell_type": "code",
      "source": [
        "from google.colab import drive\n",
        "drive.mount('/content/drive', force_remount = True)"
      ],
      "metadata": {
        "id": "Y7sVAF1nWxcJ",
        "colab": {
          "base_uri": "https://localhost:8080/"
        },
        "outputId": "99c9a783-c6d4-40dd-c485-d6ba7ef9326d"
      },
      "execution_count": null,
      "outputs": [
        {
          "output_type": "stream",
          "name": "stdout",
          "text": [
            "Mounted at /content/drive\n"
          ]
        }
      ]
    },
    {
      "cell_type": "code",
      "source": [
        "path = \"/content/drive/MyDrive/LicensePlateData/\"\n",
        "print(path)\n",
        "\n",
        "plates = os.listdir(path)\n",
        "plates.remove(\".ipynb_checkpoints\")\n",
        "print(len(plates))"
      ],
      "metadata": {
        "colab": {
          "base_uri": "https://localhost:8080/"
        },
        "id": "kCCENMjqZL0i",
        "outputId": "e8a4eacb-0532-41b4-af8c-4a1640cde9ff"
      },
      "execution_count": null,
      "outputs": [
        {
          "output_type": "stream",
          "name": "stdout",
          "text": [
            "/content/drive/MyDrive/LicensePlateData/\n",
            "285\n"
          ]
        }
      ]
    },
    {
      "cell_type": "code",
      "source": [
        "import cv2 as cv\n",
        "import numpy as np\n",
        "from matplotlib import pyplot as plt\n",
        "\n",
        "# This function gets the image from the file of images, grayscales and applies a first adaptive thresholding\n",
        "# It then erodes and dilates the photo\n",
        "# Input: the index of the platenumber wanted from the file\n",
        "# Returns: the dilated image, the grayscale image, the four char labels from the plate\n",
        "\n",
        "def choosePlate(platenum):\n",
        "  img_gray = cv.imread(path+plates[platenum], 0)\n",
        "  thresh = cv.adaptiveThreshold(img_gray, 255, cv.ADAPTIVE_THRESH_GAUSSIAN_C,cv.THRESH_BINARY, 107, 22)\n",
        "\n",
        "  kernel1 = np.ones((2,2), np.uint8)\n",
        "  img_erosion = cv.erode(thresh, kernel1, iterations=1)\n",
        "  img_dilation = cv.dilate(img_erosion, kernel1, iterations=1)\n",
        "\n",
        "  #print(sum(sum(img_dilation)))\n",
        "  print(plates[platenum])\n",
        "  #print(str(thresh.shape[0]) + \" \" + str(thresh.shape[1]))\n",
        "  # cv2_imshow(img_gray)\n",
        "  #cv2_imshow(img_dilation)\n",
        "  # print(plates[platenum])\n",
        "  char1, char2, num1, num2 = returnLabel(plates[platenum])\n",
        "  return img_dilation, img_gray, char1,char2,num1,num2"
      ],
      "metadata": {
        "id": "mtagCYndQ07_"
      },
      "execution_count": null,
      "outputs": []
    },
    {
      "cell_type": "markdown",
      "source": [
        "This block gets rid of the side bar"
      ],
      "metadata": {
        "id": "suos9-acd5i_"
      }
    },
    {
      "cell_type": "code",
      "source": [
        "# this changes size of image and if have to filter out bad contours anyways then maybe should not do this step \n",
        "def crop_side_bar(img_dilation):\n",
        "  max_area = 0\n",
        "  contours = cv.findContours(img_dilation, cv.RETR_TREE, cv.CHAIN_APPROX_SIMPLE)\n",
        "  contours = contours[0] if len(contours) == 2 else contours[1]\n",
        "  for c in contours:\n",
        "    area = cv.contourArea(c)\n",
        "    if area > max_area:\n",
        "      max_c = c\n",
        "      max_area = area\n",
        "\n",
        "  if max_c is not None:\n",
        "    leftmost = tuple(max_c[max_c[:, :, 0].argmin()][0])\n",
        "    rightmost = tuple(max_c[max_c[:, :, 0].argmax()][0])\n",
        "    top = tuple(max_c[max_c[:, :, 1].argmin()][0])\n",
        "    bot = tuple(max_c[max_c[:, :, 1].argmax()][0])\n",
        "    small_leftp = int(leftmost[0])\n",
        "    small_rightp = int(rightmost[0])\n",
        "    small_topp = int(top[1])\n",
        "    small_botp = int(bot[1])\n",
        "\n",
        "    crop = img_dilation[small_topp:small_botp, small_leftp:small_rightp]\n",
        "    return crop"
      ],
      "metadata": {
        "id": "ppvxNdMNdNCV"
      },
      "execution_count": null,
      "outputs": []
    },
    {
      "cell_type": "code",
      "source": [
        "# Helper method for finding chars in four photo return\n",
        "\n",
        "def find_chars(img_dilation,img_gray, x_shift, y_shift):\n",
        "  count = 0\n",
        "  order_of_chars = {}\n",
        "  crops = {}\n",
        "  flipd_img = cv.bitwise_not(img_dilation)\n",
        "  #cv2_imshow(flipd_img)\n",
        "  width = flipd_img.shape[1]\n",
        "  max_area = 0\n",
        "  contours = cv.findContours(flipd_img, cv.RETR_TREE, cv.CHAIN_APPROX_SIMPLE)\n",
        "  contours = contours[0] if len(contours) == 2 else contours[1]\n",
        "  cnt = sorted(contours, key=cv.contourArea, reverse=True)\n",
        "  for max_c in contours:\n",
        "    leftmost = tuple(max_c[max_c[:, :, 0].argmin()][0])\n",
        "    rightmost = tuple(max_c[max_c[:, :, 0].argmax()][0])\n",
        "    top = tuple(max_c[max_c[:, :, 1].argmin()][0])\n",
        "    bot = tuple(max_c[max_c[:, :, 1].argmax()][0])\n",
        "    if leftmost[0]-5 >0 and top[1] - 5 > 0:\n",
        "      small_leftp = int(leftmost[0]-5)\n",
        "      small_rightp = int(rightmost[0]+5)\n",
        "      small_topp = int(top[1]-5)\n",
        "      small_botp = int(bot[1]+5)\n",
        "      # making minimum size of bounding box a square\n",
        "      if small_rightp - small_leftp < small_botp-small_topp:\n",
        "        diff = (small_botp-small_topp) - (small_rightp - small_leftp)\n",
        "        small_leftp = small_leftp - ceildiv(diff,2)\n",
        "        small_rightp = small_rightp + (diff//2)\n",
        "      # if including middle thing, cut it in half\n",
        "      crop_width = small_rightp-small_leftp\n",
        "      if 0.42 < small_leftp/width <0.455 and crop_width < 60:\n",
        "        small_leftp = small_leftp + int((crop_width)/2)\n",
        "      crop = img_gray[small_topp+y_shift:small_botp+y_shift, small_leftp+x_shift:small_rightp+x_shift]\n",
        "      if crop.shape[1]/float(crop.shape[0]) >= 1:\n",
        "        order_of_chars.update({count: small_leftp})\n",
        "        crops.update({count: crop})\n",
        "        count = count + 1\n",
        "\n",
        "  # print(\"map of count to left points: \"+ str(order_of_chars))\n",
        "  # print(\"map of count to crop: \"+ str(crops))\n",
        "\n",
        "  for image in list(crops.keys()):\n",
        "    print(\"crop sizes: \" + str(crops[image].size))\n",
        "    if crops[image].shape[0] < 18:\n",
        "      crops.pop(image)\n",
        "\n",
        "  four_points = []\n",
        "  # this is four largest chars in reverse order\n",
        "  chars = dict(sorted(crops.items(),key=lambda kv: kv[1].size, reverse=True)[:4])\n",
        "\n",
        "  print(\"four largest crop sizes check\")\n",
        "  for count1, char in chars.items():\n",
        "    print(char.size)\n",
        "    print(count1)\n",
        "    for count2, point in order_of_chars.items():\n",
        "      if count1 == count2:\n",
        "        four_points.append(point)\n",
        "\n",
        "  print(\"four LHS points: \" + str(four_points))\n",
        "  zip_iterator = zip(four_points, chars.values())\n",
        "  chars_dict = dict(zip_iterator)\n",
        "  organized_chars_map = dict(sorted(chars_dict.items(),key=lambda kv: kv[0]))\n",
        "  organized_chars = list(organized_chars_map.values())\n",
        "\n",
        "  return organized_chars,flipd_img\n",
        "\n",
        "def ceildiv(a, b):\n",
        "    return -(a // -b)\n"
      ],
      "metadata": {
        "id": "oooIvxS0fOld"
      },
      "execution_count": null,
      "outputs": []
    },
    {
      "cell_type": "code",
      "source": [
        "#plate = 161\n",
        "#in range of 285\n",
        "\n",
        "def four_photo_return(plate, x_shift, y_shift):\n",
        "  two_split = False\n",
        "  # print(\"plate num: \" + str(plate))\n",
        "  dilate,gray,char1,char2,num1,num2 = choosePlate(plate)\n",
        "  chars,flipd_img = find_chars(dilate, gray, x_shift, y_shift)\n",
        "  plate_chars = []\n",
        "\n",
        "  if sum(sum(flipd_img)) > 26000:\n",
        "    for i in range(4):\n",
        "      if chars[i].shape[1]/float(chars[i].shape[0]) > 1.455:\n",
        "        kernel1 = np.ones((2,2), np.uint8)\n",
        "        two_dilate = cv.dilate(dilate, kernel1, iterations=1)\n",
        "        chars, flipd_img = find_chars(two_dilate, gray, x_shift, y_shift)\n",
        "        # print(\"extra dilation\")\n",
        "        break\n",
        "  \n",
        "\n",
        "  for i in range(len(chars)):\n",
        "    height = chars[i].shape[0]\n",
        "    width = chars[i].shape[1]\n",
        "    if width/float(height) > 2.65:\n",
        "      # print(\"pre-3 split\")\n",
        "      plate_chars.append(chars[i][:height, int((0.333)*width):int((0.666)*width)])\n",
        "      plate_chars.append(chars[i][:height, int((0.666)*width):width])\n",
        "    elif width/float(height) > 1.55:\n",
        "      # print(\"pre-2 split\")\n",
        "      two_split = True\n",
        "      plate_chars.append(chars[i][:height, 0:int((0.5)*width)])\n",
        "      plate_chars.append(chars[i][:height, int((0.5)*width):width])\n",
        "    else:\n",
        "      plate_chars.append(chars[i])\n",
        "\n",
        "  if len(plate_chars) == 5 and two_split:\n",
        "    min_val = plate_chars[4].size\n",
        "    min_index = 4\n",
        "    for i in range(4):\n",
        "      if plate_chars[i].size < min_val:\n",
        "        min_val =plate_chars[i].size\n",
        "        min_index = i\n",
        "    plate_chars.pop(min_index)\n",
        "  \n",
        "  first_char = cv.resize(plate_chars[0], (26,22), interpolation = cv.INTER_AREA)\n",
        "  second_char = cv.resize(plate_chars[1], (26,22), interpolation = cv.INTER_AREA)\n",
        "  first_num = cv.resize(plate_chars[2], (26,22), interpolation = cv.INTER_AREA)\n",
        "  second_num = cv.resize(plate_chars[3], (26,22), interpolation = cv.INTER_AREA)\n",
        "\n",
        "  # cv2_imshow(first_char)\n",
        "  # cv2_imshow(second_char)\n",
        "  # cv2_imshow(first_num)\n",
        "  # cv2_imshow(second_num)\n",
        "\n",
        "  return first_char,second_char, first_num, second_num, char1,char2,num1,num2\n",
        "\n",
        "\n",
        "\n",
        "  # cv2_imshow(first_char)\n",
        "  # print(\"height: \" + str(first_char.shape[0]))\n",
        "  # print(\"width: \" + str(first_char.shape[1]))\n",
        "  # print(\"\")\n",
        "  # cv2_imshow(second_char)\n",
        "  # print(\"height: \" + str(second_char.shape[0]))\n",
        "  # print(\"width: \" + str(second_char.shape[1]))\n",
        "  # print(\"\")\n",
        "  # cv2_imshow(first_num)\n",
        "  # print(\"height: \" + str(first_num.shape[0]))\n",
        "  # print(\"width: \" + str(first_num.shape[1]))\n",
        "  # print(\"\")\n",
        "  # cv2_imshow(second_num)\n",
        "  # print(\"height: \" + str(second_num.shape[0]))\n",
        "  # print(\"width: \" + str(second_num.shape[1]))\n",
        "  # print(\"\")\n",
        "\n",
        "# TODO resize and decide if leave grayscaled or black and white\n",
        "\n",
        "# need to make augmentations of each letter and save them to a file, should do slides within original image. checl stretching too\n",
        "# do shifts of 1 up to 5 to left, right, up, down for each letter\n",
        "\n",
        "#plate 242 is labelled incorrectly bo 52\n",
        "#plate 161 should be wk 62"
      ],
      "metadata": {
        "id": "yHBbX_uwnzv8"
      },
      "execution_count": null,
      "outputs": []
    },
    {
      "cell_type": "code",
      "execution_count": null,
      "metadata": {
        "id": "Nwqfb4McQx0E"
      },
      "outputs": [],
      "source": [
        "#This returns the label of plate\n",
        "def returnLabel(string):\n",
        "    string1,letters,nums = re.split('_', string)\n",
        "    # print(string1)\n",
        "    # print(letters)\n",
        "    # print(nums)\n",
        "    char1 = letters[0]\n",
        "    char2 = letters[1]\n",
        "    num1 = nums[0]\n",
        "    num2 = nums[1]\n",
        "    return char1,char2,num1,num2"
      ]
    },
    {
      "cell_type": "code",
      "source": [
        "def asciitoindex(character):\n",
        "  if ord(character) - 65 >= 0:\n",
        "    return ord(character)-65 \n",
        "  else:\n",
        "    return ord(character)- 48"
      ],
      "metadata": {
        "id": "isWhi1_QQ0YV"
      },
      "execution_count": null,
      "outputs": []
    },
    {
      "cell_type": "code",
      "source": [
        "x_shift = 0\n",
        "y_shift = 0\n",
        "for plate in range(10):\n",
        "  four_photo_return(plate, x_shift, y_shift);\n"
      ],
      "metadata": {
        "colab": {
          "base_uri": "https://localhost:8080/"
        },
        "id": "uPg7O8mtkMQu",
        "outputId": "a39564e1-60d6-429e-b9e2-cb36a1cad262"
      },
      "execution_count": null,
      "outputs": [
        {
          "output_type": "stream",
          "name": "stdout",
          "text": [
            "pl_IR_47.jpg\n",
            "crop sizes: 204\n",
            "crop sizes: 187\n",
            "crop sizes: 435\n",
            "crop sizes: 651\n",
            "crop sizes: 240\n",
            "crop sizes: 550\n",
            "crop sizes: 651\n",
            "crop sizes: 196\n",
            "crop sizes: 609\n",
            "crop sizes: 150\n",
            "crop sizes: 143\n",
            "crop sizes: 187\n",
            "crop sizes: 143\n",
            "crop sizes: 121\n",
            "crop sizes: 121\n",
            "crop sizes: 363\n",
            "crop sizes: 204\n",
            "crop sizes: 224\n",
            "crop sizes: 403\n",
            "four largest crop sizes check\n",
            "651\n",
            "3\n",
            "651\n",
            "6\n",
            "609\n",
            "8\n",
            "550\n",
            "5\n",
            "four LHS points: [34, 80, 104, 14]\n",
            "crop sizes: 143\n",
            "crop sizes: 140\n",
            "crop sizes: 196\n",
            "crop sizes: 600\n",
            "crop sizes: 272\n",
            "crop sizes: 483\n",
            "crop sizes: 560\n",
            "crop sizes: 225\n",
            "crop sizes: 520\n",
            "crop sizes: 110\n",
            "crop sizes: 130\n",
            "crop sizes: 100\n",
            "crop sizes: 260\n",
            "crop sizes: 110\n",
            "crop sizes: 100\n",
            "crop sizes: 143\n",
            "crop sizes: 204\n",
            "four largest crop sizes check\n",
            "600\n",
            "3\n",
            "560\n",
            "6\n",
            "520\n",
            "8\n",
            "483\n",
            "5\n",
            "four LHS points: [35, 82, 107, 15]\n",
            "pl_AZ_20.jpg\n",
            "crop sizes: 150\n",
            "crop sizes: 143\n",
            "crop sizes: 667\n",
            "crop sizes: 420\n",
            "crop sizes: 180\n",
            "crop sizes: 621\n",
            "crop sizes: 644\n",
            "crop sizes: 682\n",
            "crop sizes: 288\n",
            "crop sizes: 154\n",
            "crop sizes: 154\n",
            "four largest crop sizes check\n",
            "682\n",
            "7\n",
            "667\n",
            "2\n",
            "644\n",
            "6\n",
            "621\n",
            "5\n",
            "four LHS points: [14, 107, 38, 85]\n",
            "pl_ZB_29.jpg\n",
            "crop sizes: 150\n",
            "crop sizes: 154\n",
            "crop sizes: 638\n",
            "crop sizes: 280\n",
            "crop sizes: 252\n",
            "crop sizes: 567\n",
            "crop sizes: 616\n",
            "crop sizes: 270\n",
            "crop sizes: 594\n",
            "crop sizes: 130\n",
            "crop sizes: 100\n",
            "crop sizes: 154\n",
            "crop sizes: 165\n",
            "four largest crop sizes check\n",
            "638\n",
            "2\n",
            "616\n",
            "6\n",
            "594\n",
            "8\n",
            "567\n",
            "5\n",
            "four LHS points: [35, 102, 80, 14]\n",
            "pl2_SY_71.jpg\n",
            "crop sizes: 204\n",
            "crop sizes: 187\n",
            "crop sizes: 638\n",
            "crop sizes: 638\n",
            "crop sizes: 759\n",
            "crop sizes: 594\n",
            "crop sizes: 121\n",
            "crop sizes: 444\n",
            "crop sizes: 156\n",
            "crop sizes: 192\n",
            "crop sizes: 392\n",
            "crop sizes: 660\n",
            "four largest crop sizes check\n",
            "759\n",
            "4\n",
            "638\n",
            "2\n",
            "638\n",
            "3\n",
            "594\n",
            "5\n",
            "four LHS points: [35, 14, 84, 108]\n",
            "pl_CK_30.jpg\n",
            "crop sizes: 130\n",
            "crop sizes: 143\n",
            "crop sizes: 350\n",
            "crop sizes: 567\n",
            "crop sizes: 440\n",
            "crop sizes: 168\n",
            "crop sizes: 546\n",
            "crop sizes: 567\n",
            "crop sizes: 572\n",
            "crop sizes: 120\n",
            "crop sizes: 132\n",
            "four largest crop sizes check\n",
            "572\n",
            "8\n",
            "567\n",
            "3\n",
            "567\n",
            "7\n",
            "546\n",
            "6\n",
            "four LHS points: [12, 98, 34, 77]\n",
            "pl2_FN_42.jpg\n",
            "crop sizes: 96\n",
            "crop sizes: 150\n",
            "crop sizes: 196\n",
            "crop sizes: 630\n",
            "crop sizes: 546\n",
            "crop sizes: 660\n",
            "crop sizes: 255\n",
            "crop sizes: 621\n",
            "crop sizes: 130\n",
            "crop sizes: 140\n",
            "four largest crop sizes check\n",
            "660\n",
            "5\n",
            "630\n",
            "3\n",
            "621\n",
            "7\n",
            "546\n",
            "4\n",
            "four LHS points: [89, 40, 115, 18]\n",
            "pl2_AZ_20.jpg\n",
            "crop sizes: 140\n",
            "crop sizes: 140\n",
            "crop sizes: 378\n",
            "crop sizes: 667\n",
            "crop sizes: 462\n",
            "crop sizes: 180\n",
            "crop sizes: 621\n",
            "crop sizes: 616\n",
            "crop sizes: 638\n",
            "crop sizes: 288\n",
            "crop sizes: 100\n",
            "crop sizes: 165\n",
            "crop sizes: 140\n",
            "four largest crop sizes check\n",
            "667\n",
            "3\n",
            "638\n",
            "8\n",
            "621\n",
            "6\n",
            "616\n",
            "7\n",
            "four LHS points: [105, 12, 83, 36]\n",
            "pl2_ZB_29.jpg\n",
            "crop sizes: 165\n",
            "crop sizes: 176\n",
            "crop sizes: 225\n",
            "crop sizes: 713\n",
            "crop sizes: 736\n",
            "crop sizes: 330\n",
            "crop sizes: 300\n",
            "crop sizes: 682\n",
            "crop sizes: 315\n",
            "crop sizes: 690\n",
            "crop sizes: 100\n",
            "crop sizes: 100\n",
            "crop sizes: 110\n",
            "crop sizes: 165\n",
            "crop sizes: 160\n",
            "four largest crop sizes check\n",
            "736\n",
            "4\n",
            "713\n",
            "3\n",
            "690\n",
            "9\n",
            "682\n",
            "7\n",
            "four LHS points: [41, 15, 95, 121]\n",
            "pl_SY_71.jpg\n",
            "crop sizes: 176\n",
            "crop sizes: 165\n",
            "crop sizes: 405\n",
            "crop sizes: 550\n",
            "crop sizes: 616\n",
            "crop sizes: 660\n",
            "crop sizes: 621\n",
            "crop sizes: 187\n",
            "crop sizes: 143\n",
            "crop sizes: 143\n",
            "crop sizes: 140\n",
            "crop sizes: 100\n",
            "crop sizes: 408\n",
            "crop sizes: 121\n",
            "crop sizes: 168\n",
            "crop sizes: 406\n",
            "crop sizes: 195\n",
            "four largest crop sizes check\n",
            "660\n",
            "5\n",
            "621\n",
            "6\n",
            "616\n",
            "4\n",
            "550\n",
            "3\n",
            "four LHS points: [31, 12, 74, 97]\n",
            "pl_TK_28.jpg\n",
            "crop sizes: 204\n",
            "crop sizes: 204\n",
            "crop sizes: 588\n",
            "crop sizes: 1100\n",
            "crop sizes: 638\n",
            "crop sizes: 224\n",
            "crop sizes: 195\n",
            "crop sizes: 110\n",
            "crop sizes: 143\n",
            "crop sizes: 187\n",
            "crop sizes: 100\n",
            "crop sizes: 132\n",
            "crop sizes: 252\n",
            "crop sizes: 372\n",
            "crop sizes: 224\n",
            "crop sizes: 434\n",
            "four largest crop sizes check\n",
            "1100\n",
            "3\n",
            "638\n",
            "4\n",
            "588\n",
            "2\n",
            "four LHS points: [13, 97, 76]\n",
            "crop sizes: 132\n",
            "crop sizes: 143\n",
            "crop sizes: 560\n",
            "crop sizes: 255\n",
            "crop sizes: 224\n",
            "crop sizes: 520\n",
            "crop sizes: 1029\n",
            "crop sizes: 110\n",
            "crop sizes: 150\n",
            "crop sizes: 150\n",
            "crop sizes: 130\n",
            "crop sizes: 100\n",
            "crop sizes: 100\n",
            "crop sizes: 121\n",
            "crop sizes: 182\n",
            "crop sizes: 221\n",
            "four largest crop sizes check\n",
            "1029\n",
            "6\n",
            "560\n",
            "2\n",
            "520\n",
            "5\n",
            "four LHS points: [14, 98, 78]\n"
          ]
        }
      ]
    },
    {
      "cell_type": "code",
      "source": [
        "# This creates the label hot encode arrays and the corresponding array of char images\n",
        "# It also creates the augmented data set with shifts right and left\n",
        "# It also outputs the spread of input data to the NN from the commented code\n",
        "\n",
        "def arrays_for_nn():\n",
        "  countTrainingSet = {\"A\" : 0, \"B\" : 0, \"C\" : 0, \"D\" : 0, \"E\" : 0, \"F\" : 0, \"G\" : 0, \"H\" : 0, \"I\" :0, \"J\" : 0, \"K\" :0, \n",
        "                      \"L\" :0, \"M\" :0, \"N\" :0, \"O\" :0, \"P\" :0, \"Q\" : 0, \"R\" :0, \"S\" :0, \"T\" :0, \"U\" :0, \"V\" :0, \"W\" : 0, \"X\" : 0, \"Y\" :0,\n",
        "                      \"Z\": 0, \"0\" : 0 , \"1\" : 0,\"2\" : 0,\"3\" : 0, \"4\" : 0, \"5\": 0, \"6\":0, \"7\": 0, \"8\": 0, \"9\":0}\n",
        "  charArray = []\n",
        "  charEncodeArray = []\n",
        "  numArray = []\n",
        "  numEncodeArray = []\n",
        "  x_shift = 0\n",
        "  y_shift = 0\n",
        "  x = [-5,-4,-3,-2,-1,0,1,2,3,4]\n",
        "  y = [-1,1,2,3]\n",
        "  for plate in range(285):\n",
        "    for x_shift in x:\n",
        "      first_char,second_char, first_num, second_num, char1,char2,num1,num2 = four_photo_return(plate, x_shift, y_shift)\n",
        "      charArray.append(first_char)\n",
        "      zeroArray = np.zeros(26)\n",
        "      zeroArray[asciitoindex(char1)] = 1\n",
        "      charEncodeArray.append(zeroArray)\n",
        "\n",
        "      charArray.append(second_char)\n",
        "      zeroArray = np.zeros(26)\n",
        "      zeroArray[asciitoindex(char2)] = 1\n",
        "      charEncodeArray.append(zeroArray)\n",
        "\n",
        "      numArray.append(first_num)\n",
        "      zeroArray = np.zeros(10)\n",
        "      zeroArray[asciitoindex(num1)] = 1\n",
        "      numEncodeArray.append(zeroArray)\n",
        "\n",
        "      numArray.append(second_num)\n",
        "      zeroArray = np.zeros(10)\n",
        "      zeroArray[asciitoindex(num2)] = 1\n",
        "      numEncodeArray.append(zeroArray)\n",
        "\n",
        "      # for letter in countTrainingSet.keys():\n",
        "      #   if char1 == letter:\n",
        "      #     countTrainingSet.update({letter: countTrainingSet.get(letter)+1})\n",
        "      #   if char2 == letter:\n",
        "      #     countTrainingSet.update({letter: countTrainingSet.get(letter)+1})\n",
        "      #   if num1 == letter:\n",
        "      #     countTrainingSet.update({letter: countTrainingSet.get(letter)+1})\n",
        "      #   if num2 == letter:\n",
        "      #     countTrainingSet.update({letter: countTrainingSet.get(letter)+1})\n",
        "    \n",
        "    x_shift = 0\n",
        "    for y_shift in y:\n",
        "      first_char,second_char, first_num, second_num, char1,char2,num1,num2 = four_photo_return(plate, x_shift, y_shift)\n",
        "      charArray.append(first_char)\n",
        "      zeroArray = np.zeros(26)\n",
        "      zeroArray[asciitoindex(char1)] = 1\n",
        "      charEncodeArray.append(zeroArray)\n",
        "\n",
        "      charArray.append(second_char)\n",
        "      zeroArray = np.zeros(26)\n",
        "      zeroArray[asciitoindex(char2)] = 1\n",
        "      charEncodeArray.append(zeroArray)\n",
        "\n",
        "      numArray.append(first_num)\n",
        "      zeroArray = np.zeros(10)\n",
        "      zeroArray[asciitoindex(num1)] = 1\n",
        "      numEncodeArray.append(zeroArray)\n",
        "\n",
        "      numArray.append(second_num)\n",
        "      zeroArray = np.zeros(10)\n",
        "      zeroArray[asciitoindex(num2)] = 1\n",
        "      numEncodeArray.append(zeroArray)\n",
        "\n",
        "  #     for letter in countTrainingSet.keys():\n",
        "  #       if char1 == letter:\n",
        "  #         countTrainingSet.update({letter: countTrainingSet.get(letter)+1})\n",
        "  #       if char2 == letter:\n",
        "  #         countTrainingSet.update({letter: countTrainingSet.get(letter)+1})\n",
        "  #       if num1 == letter:\n",
        "  #         countTrainingSet.update({letter: countTrainingSet.get(letter)+1})\n",
        "  #       if num2 == letter:\n",
        "  #         countTrainingSet.update({letter: countTrainingSet.get(letter)+1})\n",
        "\n",
        "  # plt.bar(countTrainingSet.keys(), countTrainingSet.values(), 5)\n",
        "  return charArray, charEncodeArray, numArray, numEncodeArray\n",
        "# print(len(charArray))\n",
        "# print(len(charEncodeArray))\n",
        "# print(len(numArray))\n",
        "# print(len(numEncodeArray))\n",
        "# for char in charArray:\n",
        "#   cv2_imshow(char)\n",
        "# print(charEncodeArray)\n",
        "# for num in numArray:\n",
        "#   cv2_imshow(num)\n",
        "# print(numEncodeArray)\n",
        "  "
      ],
      "metadata": {
        "id": "T_H0ZJOAJr-B"
      },
      "execution_count": null,
      "outputs": []
    },
    {
      "cell_type": "markdown",
      "source": [
        "NEURAL NETWORK FOR CHARS THEN NUMS\n"
      ],
      "metadata": {
        "id": "dKJIR_anP9dv"
      }
    },
    {
      "cell_type": "code",
      "source": [
        "# neural net validation split 0.2\n",
        "VALIDATION_SPLIT = 0.2\n",
        "%tensorflow_version 1.14.0\n",
        "\n",
        "from tensorflow.keras import layers\n",
        "from tensorflow.keras import models\n",
        "from tensorflow.keras import optimizers\n",
        "\n",
        "from tensorflow.keras.utils import plot_model\n",
        "from tensorflow.keras import backend"
      ],
      "metadata": {
        "id": "sVOd7P_Crdkg",
        "colab": {
          "base_uri": "https://localhost:8080/"
        },
        "outputId": "9969f00e-a910-487a-81e7-a9ef63d7ddb8"
      },
      "execution_count": null,
      "outputs": [
        {
          "output_type": "stream",
          "name": "stdout",
          "text": [
            "`%tensorflow_version` only switches the major version: 1.x or 2.x.\n",
            "You set: `1.14.0`. This will be interpreted as: `1.x`.\n",
            "\n",
            "\n",
            "TensorFlow 1.x selected.\n"
          ]
        }
      ]
    },
    {
      "cell_type": "code",
      "source": [
        "def reset_weights(model):\n",
        "    session = backend.get_session()\n",
        "    for layer in model.layers: \n",
        "        if hasattr(layer, 'kernel_initializer'):\n",
        "            layer.kernel.initializer.run(session=session)"
      ],
      "metadata": {
        "id": "azIglnejNO05"
      },
      "execution_count": null,
      "outputs": []
    },
    {
      "cell_type": "markdown",
      "source": [
        "Char NN\n"
      ],
      "metadata": {
        "id": "YEQABeVDMvIu"
      }
    },
    {
      "cell_type": "code",
      "source": [
        "char_model = models.Sequential()\n",
        "char_model.add(layers.Conv2D(32, (3, 3), activation='relu',\n",
        "                             input_shape=(26,22,1)))\n",
        "char_model.add(layers.MaxPooling2D((2, 2)))\n",
        "char_model.add(layers.Conv2D(64, (3, 3), activation='relu'))\n",
        "char_model.add(layers.MaxPooling2D((2, 2)))\n",
        "char_model.add(layers.Flatten())\n",
        "char_model.add(layers.Dropout(0.5))\n",
        "char_model.add(layers.Dense(512, activation='relu'))\n",
        "char_model.add(layers.Dense(26, activation='softmax'))\n",
        "char_model.summary()\n",
        "\n",
        "# this model was no good\n",
        "# char_model = models.Sequential()\n",
        "# char_model.add(layers.Conv2D(32, (3, 3), activation='relu',\n",
        "#                              input_shape=(26, 22, 1)))\n",
        "# char_model.add(layers.MaxPooling2D((2, 2)))\n",
        "# char_model.add(layers.Conv2D(64, (3, 3), activation='relu'))\n",
        "# char_model.add(layers.MaxPooling2D((2, 2)))\n",
        "# char_model.add(layers.Conv2D(128, (3, 3), activation='relu'))\n",
        "# char_model.add(layers.MaxPooling2D((2, 2)))\n",
        "# char_model.add(layers.Conv2D(128, (1, 1), activation='relu'))\n",
        "# char_model.add(layers.MaxPooling2D((1, 1)))\n",
        "# char_model.add(layers.Flatten())\n",
        "# char_model.add(layers.Dropout(0.5))\n",
        "# char_model.add(layers.Dense(512, activation='relu'))\n",
        "# char_model.add(layers.Dense(26, activation='softmax'))"
      ],
      "metadata": {
        "colab": {
          "base_uri": "https://localhost:8080/"
        },
        "id": "_xg4YCM7Mx9q",
        "outputId": "f001ecbd-674e-4bc0-ba23-ee25f8fc7c64"
      },
      "execution_count": null,
      "outputs": [
        {
          "output_type": "stream",
          "name": "stdout",
          "text": [
            "Model: \"sequential_6\"\n",
            "_________________________________________________________________\n",
            "Layer (type)                 Output Shape              Param #   \n",
            "=================================================================\n",
            "conv2d_18 (Conv2D)           (None, 24, 20, 32)        320       \n",
            "_________________________________________________________________\n",
            "max_pooling2d_18 (MaxPooling (None, 12, 10, 32)        0         \n",
            "_________________________________________________________________\n",
            "conv2d_19 (Conv2D)           (None, 10, 8, 64)         18496     \n",
            "_________________________________________________________________\n",
            "max_pooling2d_19 (MaxPooling (None, 5, 4, 64)          0         \n",
            "_________________________________________________________________\n",
            "flatten_4 (Flatten)          (None, 1280)              0         \n",
            "_________________________________________________________________\n",
            "dropout_4 (Dropout)          (None, 1280)              0         \n",
            "_________________________________________________________________\n",
            "dense_8 (Dense)              (None, 512)               655872    \n",
            "_________________________________________________________________\n",
            "dense_9 (Dense)              (None, 26)                13338     \n",
            "=================================================================\n",
            "Total params: 688,026\n",
            "Trainable params: 688,026\n",
            "Non-trainable params: 0\n",
            "_________________________________________________________________\n"
          ]
        }
      ]
    },
    {
      "cell_type": "code",
      "source": [
        "LEARNING_RATE = 1e-4\n",
        "char_model.compile(loss='categorical_crossentropy',\n",
        "                   optimizer=optimizers.RMSprop(lr=LEARNING_RATE),\n",
        "                   metrics=['acc'])"
      ],
      "metadata": {
        "id": "FrjvWSoQNRoj"
      },
      "execution_count": null,
      "outputs": []
    },
    {
      "cell_type": "code",
      "source": [
        "reset_weights(char_model)\n",
        "charArray, charEncodeArray, numArray, numEncodeArray = arrays_for_nn()\n",
        "print(len(charArray))\n",
        "charArray = np.asarray(charArray)\n",
        "charEncodeArray = np.asarray(charEncodeArray)\n",
        "charArray = charArray.reshape((-1, 26, 22, 1))\n",
        "\n",
        "history_conv_chars = char_model.fit(charArray, charEncodeArray, \n",
        "                              validation_split=VALIDATION_SPLIT,\n",
        "                              epochs=30, \n",
        "                              batch_size=100)"
      ],
      "metadata": {
        "colab": {
          "base_uri": "https://localhost:8080/",
          "height": 1000
        },
        "id": "S099Ss55OMUC",
        "outputId": "7f4e491a-ac8f-41bd-c36d-bd1085eb0602"
      },
      "execution_count": null,
      "outputs": [
        {
          "output_type": "display_data",
          "data": {
            "image/png": "[encoded data removed]",
            "text/plain": [
              "<PIL.Image.Image image mode=L size=26x22 at 0x7F4894563C10>"
            ]
          },
          "metadata": {}
        },
        {
          "output_type": "display_data",
          "data": {
            "image/png": "[encoded data removed]",
            "text/plain": [
              "<PIL.Image.Image image mode=L size=26x22 at 0x7F489455FED0>"
            ]
          },
          "metadata": {}
        },
        {
          "output_type": "display_data",
          "data": {
            "image/png": "[encoded data removed]",
            "text/plain": [
              "<PIL.Image.Image image mode=L size=26x22 at 0x7F489455FD50>"
            ]
          },
          "metadata": {}
        },
        {
          "output_type": "display_data",
          "data": {
            "image/png": "[encoded data removed]",
            "text/plain": [
              "<PIL.Image.Image image mode=L size=26x22 at 0x7F489455FED0>"
            ]
          },
          "metadata": {}
        },
        {
          "output_type": "display_data",
          "data": {
            "image/png": "[encoded data removed]",
            "text/plain": [
              "<PIL.Image.Image image mode=L size=26x22 at 0x7F4894563E90>"
            ]
          },
          "metadata": {}
        },
        {
          "output_type": "display_data",
          "data": {
            "image/png": "[encoded data removed]",
            "text/plain": [
              "<PIL.Image.Image image mode=L size=26x22 at 0x7F489455FED0>"
            ]
          },
          "metadata": {}
        },
        {
          "output_type": "display_data",
          "data": {
            "image/png": "[encoded data removed]",
            "text/plain": [
              "<PIL.Image.Image image mode=L size=26x22 at 0x7F489455FF50>"
            ]
          },
          "metadata": {}
        },
        {
          "output_type": "display_data",
          "data": {
            "image/png": "[encoded data removed]",
            "text/plain": [
              "<PIL.Image.Image image mode=L size=26x22 at 0x7F489455FBD0>"
            ]
          },
          "metadata": {}
        },
        {
          "output_type": "display_data",
          "data": {
            "image/png": "[encoded data removed]",
            "text/plain": [
              "<PIL.Image.Image image mode=L size=26x22 at 0x7F4894563E10>"
            ]
          },
          "metadata": {}
        },
        {
          "output_type": "display_data",
          "data": {
            "image/png": "[encoded data removed]",
            "text/plain": [
              "<PIL.Image.Image image mode=L size=26x22 at 0x7F489455F710>"
            ]
          },
          "metadata": {}
        },
        {
          "output_type": "display_data",
          "data": {
            "image/png": "[encoded data removed]",
            "text/plain": [
              "<PIL.Image.Image image mode=L size=26x22 at 0x7F489455FD10>"
            ]
          },
          "metadata": {}
        },
        {
          "output_type": "display_data",
          "data": {
            "image/png": "[encoded data removed]",
            "text/plain": [
              "<PIL.Image.Image image mode=L size=26x22 at 0x7F489455FD10>"
            ]
          },
          "metadata": {}
        },
        {
          "output_type": "display_data",
          "data": {
            "image/png": "[encoded data removed]",
            "text/plain": [
              "<PIL.Image.Image image mode=L size=26x22 at 0x7F48945C85D0>"
            ]
          },
          "metadata": {}
        },
        {
          "output_type": "display_data",
          "data": {
            "image/png": "[encoded data removed]",
            "text/plain": [
              "<PIL.Image.Image image mode=L size=26x22 at 0x7F489465B510>"
            ]
          },
          "metadata": {}
        },
        {
          "output_type": "display_data",
          "data": {
            "image/png": "[encoded data removed]",
            "text/plain": [
              "<PIL.Image.Image image mode=L size=26x22 at 0x7F489465B590>"
            ]
          },
          "metadata": {}
        },
        {
          "output_type": "display_data",
          "data": {
            "image/png": "[encoded data removed]",
            "text/plain": [
              "<PIL.Image.Image image mode=L size=26x22 at 0x7F4894563B90>"
            ]
          },
          "metadata": {}
        },
        {
          "output_type": "display_data",
          "data": {
            "image/png": "[encoded data removed]",
            "text/plain": [
              "<PIL.Image.Image image mode=L size=26x22 at 0x7F48946388D0>"
            ]
          },
          "metadata": {}
        },
        {
          "output_type": "display_data",
          "data": {
            "image/png": "[encoded data removed]",
            "text/plain": [
              "<PIL.Image.Image image mode=L size=26x22 at 0x7F4894638F50>"
            ]
          },
          "metadata": {}
        },
        {
          "output_type": "display_data",
          "data": {
            "image/png": "[encoded data removed]",
            "text/plain": [
              "<PIL.Image.Image image mode=L size=26x22 at 0x7F48945C85D0>"
            ]
          },
          "metadata": {}
        },
        {
          "output_type": "display_data",
          "data": {
            "image/png": "[encoded data removed]",
            "text/plain": [
              "<PIL.Image.Image image mode=L size=26x22 at 0x7F489465B510>"
            ]
          },
          "metadata": {}
        },
        {
          "output_type": "display_data",
          "data": {
            "image/png": "[encoded data removed]",
            "text/plain": [
              "<PIL.Image.Image image mode=L size=26x22 at 0x7F4894563B90>"
            ]
          },
          "metadata": {}
        },
        {
          "output_type": "display_data",
          "data": {
            "image/png": "[encoded data removed]",
            "text/plain": [
              "<PIL.Image.Image image mode=L size=26x22 at 0x7F4894563E90>"
            ]
          },
          "metadata": {}
        },
        {
          "output_type": "display_data",
          "data": {
            "image/png": "[encoded data removed]",
            "text/plain": [
              "<PIL.Image.Image image mode=L size=26x22 at 0x7F48946388D0>"
            ]
          },
          "metadata": {}
        },
        {
          "output_type": "display_data",
          "data": {
            "image/png": "[encoded data removed]",
            "text/plain": [
              "<PIL.Image.Image image mode=L size=26x22 at 0x7F4894563B90>"
            ]
          },
          "metadata": {}
        },
        {
          "output_type": "display_data",
          "data": {
            "image/png": "[encoded data removed]",
            "text/plain": [
              "<PIL.Image.Image image mode=L size=26x22 at 0x7F4894638F50>"
            ]
          },
          "metadata": {}
        },
        {
          "output_type": "display_data",
          "data": {
            "image/png": "[encoded data removed]",
            "text/plain": [
              "<PIL.Image.Image image mode=L size=26x22 at 0x7F489455FD10>"
            ]
          },
          "metadata": {}
        },
        {
          "output_type": "display_data",
          "data": {
            "image/png": "[encoded data removed]",
            "text/plain": [
              "<PIL.Image.Image image mode=L size=26x22 at 0x7F4894563E90>"
            ]
          },
          "metadata": {}
        },
        {
          "output_type": "display_data",
          "data": {
            "image/png": "[encoded data removed]",
            "text/plain": [
              "<PIL.Image.Image image mode=L size=26x22 at 0x7F489455FE50>"
            ]
          },
          "metadata": {}
        },
        {
          "output_type": "display_data",
          "data": {
            "image/png": "[encoded data removed]",
            "text/plain": [
              "<PIL.Image.Image image mode=L size=26x22 at 0x7F4894638F50>"
            ]
          },
          "metadata": {}
        },
        {
          "output_type": "display_data",
          "data": {
            "image/png": "[encoded data removed]",
            "text/plain": [
              "<PIL.Image.Image image mode=L size=26x22 at 0x7F489455FE50>"
            ]
          },
          "metadata": {}
        },
        {
          "output_type": "display_data",
          "data": {
            "image/png": "[encoded data removed]",
            "text/plain": [
              "<PIL.Image.Image image mode=L size=26x22 at 0x7F4894563CD0>"
            ]
          },
          "metadata": {}
        },
        {
          "output_type": "display_data",
          "data": {
            "image/png": "[encoded data removed]",
            "text/plain": [
              "<PIL.Image.Image image mode=L size=26x22 at 0x7F4894563B90>"
            ]
          },
          "metadata": {}
        },
        {
          "output_type": "display_data",
          "data": {
            "image/png": "[encoded data removed]",
            "text/plain": [
              "<PIL.Image.Image image mode=L size=26x22 at 0x7F4894563C10>"
            ]
          },
          "metadata": {}
        },
        {
          "output_type": "display_data",
          "data": {
            "image/png": "[encoded data removed]",
            "text/plain": [
              "<PIL.Image.Image image mode=L size=26x22 at 0x7F48946388D0>"
            ]
          },
          "metadata": {}
        },
        {
          "output_type": "display_data",
          "data": {
            "image/png": "[encoded data removed]",
            "text/plain": [
              "<PIL.Image.Image image mode=L size=26x22 at 0x7F4894563E90>"
            ]
          },
          "metadata": {}
        },
        {
          "output_type": "display_data",
          "data": {
            "image/png": "[encoded data removed]",
            "text/plain": [
              "<PIL.Image.Image image mode=L size=26x22 at 0x7F4894563C10>"
            ]
          },
          "metadata": {}
        },
        {
          "output_type": "display_data",
          "data": {
            "image/png": "[encoded data removed]",
            "text/plain": [
              "<PIL.Image.Image image mode=L size=26x22 at 0x7F4894563CD0>"
            ]
          },
          "metadata": {}
        },
        {
          "output_type": "display_data",
          "data": {
            "image/png": "[encoded data removed]",
            "text/plain": [
              "<PIL.Image.Image image mode=L size=26x22 at 0x7F4894563C50>"
            ]
          },
          "metadata": {}
        },
        {
          "output_type": "display_data",
          "data": {
            "image/png": "[encoded data removed]",
            "text/plain": [
              "<PIL.Image.Image image mode=L size=26x22 at 0x7F489455F990>"
            ]
          },
          "metadata": {}
        },
        {
          "output_type": "display_data",
          "data": {
            "image/png": "[encoded data removed]",
            "text/plain": [
              "<PIL.Image.Image image mode=L size=26x22 at 0x7F4894563B90>"
            ]
          },
          "metadata": {}
        },
        {
          "output_type": "display_data",
          "data": {
            "image/png": "[encoded data removed]",
            "text/plain": [
              "<PIL.Image.Image image mode=L size=26x22 at 0x7F4894638F50>"
            ]
          },
          "metadata": {}
        },
        {
          "output_type": "display_data",
          "data": {
            "image/png": "[encoded data removed]",
            "text/plain": [
              "<PIL.Image.Image image mode=L size=26x22 at 0x7F48945C85D0>"
            ]
          },
          "metadata": {}
        },
        {
          "output_type": "display_data",
          "data": {
            "image/png": "[encoded data removed]",
            "text/plain": [
              "<PIL.Image.Image image mode=L size=26x22 at 0x7F489465B590>"
            ]
          },
          "metadata": {}
        },
        {
          "output_type": "display_data",
          "data": {
            "image/png": "[encoded data removed]",
            "text/plain": [
              "<PIL.Image.Image image mode=L size=26x22 at 0x7F489455FD10>"
            ]
          },
          "metadata": {}
        },
        {
          "output_type": "display_data",
          "data": {
            "image/png": "[encoded data removed]",
            "text/plain": [
              "<PIL.Image.Image image mode=L size=26x22 at 0x7F48945C85D0>"
            ]
          },
          "metadata": {}
        },
        {
          "output_type": "display_data",
          "data": {
            "image/png": "[encoded data removed]",
            "text/plain": [
              "<PIL.Image.Image image mode=L size=26x22 at 0x7F489455F290>"
            ]
          },
          "metadata": {}
        },
        {
          "output_type": "display_data",
          "data": {
            "image/png": "[encoded data removed]",
            "text/plain": [
              "<PIL.Image.Image image mode=L size=26x22 at 0x7F4894563B90>"
            ]
          },
          "metadata": {}
        },
        {
          "output_type": "display_data",
          "data": {
            "image/png": "[encoded data removed]",
            "text/plain": [
              "<PIL.Image.Image image mode=L size=26x22 at 0x7F4894563CD0>"
            ]
          },
          "metadata": {}
        },
        {
          "output_type": "display_data",
          "data": {
            "image/png": "[encoded data removed]",
            "text/plain": [
              "<PIL.Image.Image image mode=L size=26x22 at 0x7F4894638F50>"
            ]
          },
          "metadata": {}
        },
        {
          "output_type": "display_data",
          "data": {
            "image/png": "[encoded data removed]",
            "text/plain": [
              "<PIL.Image.Image image mode=L size=26x22 at 0x7F489465B590>"
            ]
          },
          "metadata": {}
        },
        {
          "output_type": "display_data",
          "data": {
            "image/png": "[encoded data removed]",
            "text/plain": [
              "<PIL.Image.Image image mode=L size=26x22 at 0x7F4894563D10>"
            ]
          },
          "metadata": {}
        },
        {
          "output_type": "display_data",
          "data": {
            "image/png": "[encoded data removed]",
            "text/plain": [
              "<PIL.Image.Image image mode=L size=26x22 at 0x7F4894563CD0>"
            ]
          },
          "metadata": {}
        },
        {
          "output_type": "display_data",
          "data": {
            "image/png": "[encoded data removed]",
            "text/plain": [
              "<PIL.Image.Image image mode=L size=26x22 at 0x7F4894563C10>"
            ]
          },
          "metadata": {}
        },
        {
          "output_type": "display_data",
          "data": {
            "image/png": "[encoded data removed]",
            "text/plain": [
              "<PIL.Image.Image image mode=L size=26x22 at 0x7F489465B590>"
            ]
          },
          "metadata": {}
        },
        {
          "output_type": "display_data",
          "data": {
            "image/png": "[encoded data removed]",
            "text/plain": [
              "<PIL.Image.Image image mode=L size=26x22 at 0x7F4894563E90>"
            ]
          },
          "metadata": {}
        },
        {
          "output_type": "display_data",
          "data": {
            "image/png": "[encoded data removed]",
            "text/plain": [
              "<PIL.Image.Image image mode=L size=26x22 at 0x7F489455F990>"
            ]
          },
          "metadata": {}
        },
        {
          "output_type": "display_data",
          "data": {
            "image/png": "[encoded data removed]",
            "text/plain": [
              "<PIL.Image.Image image mode=L size=26x22 at 0x7F4894563CD0>"
            ]
          },
          "metadata": {}
        },
        {
          "output_type": "display_data",
          "data": {
            "image/png": "[encoded data removed]",
            "text/plain": [
              "<PIL.Image.Image image mode=L size=26x22 at 0x7F489465B510>"
            ]
          },
          "metadata": {}
        },
        {
          "output_type": "display_data",
          "data": {
            "image/png": "[encoded data removed]",
            "text/plain": [
              "<PIL.Image.Image image mode=L size=26x22 at 0x7F4894563B90>"
            ]
          },
          "metadata": {}
        },
        {
          "output_type": "display_data",
          "data": {
            "image/png": "[encoded data removed]",
            "text/plain": [
              "<PIL.Image.Image image mode=L size=26x22 at 0x7F489455FA50>"
            ]
          },
          "metadata": {}
        },
        {
          "output_type": "display_data",
          "data": {
            "image/png": "[encoded data removed]",
            "text/plain": [
              "<PIL.Image.Image image mode=L size=26x22 at 0x7F4894563D10>"
            ]
          },
          "metadata": {}
        },
        {
          "output_type": "display_data",
          "data": {
            "image/png": "[encoded data removed]",
            "text/plain": [
              "<PIL.Image.Image image mode=L size=26x22 at 0x7F4894563C10>"
            ]
          },
          "metadata": {}
        },
        {
          "output_type": "display_data",
          "data": {
            "image/png": "[encoded data removed]",
            "text/plain": [
              "<PIL.Image.Image image mode=L size=26x22 at 0x7F4894563D10>"
            ]
          },
          "metadata": {}
        },
        {
          "output_type": "display_data",
          "data": {
            "image/png": "[encoded data removed]",
            "text/plain": [
              "<PIL.Image.Image image mode=L size=26x22 at 0x7F4894563C50>"
            ]
          },
          "metadata": {}
        },
        {
          "output_type": "display_data",
          "data": {
            "image/png": "[encoded data removed]",
            "text/plain": [
              "<PIL.Image.Image image mode=L size=26x22 at 0x7F4894563CD0>"
            ]
          },
          "metadata": {}
        },
        {
          "output_type": "display_data",
          "data": {
            "image/png": "[encoded data removed]",
            "text/plain": [
              "<PIL.Image.Image image mode=L size=26x22 at 0x7F4894638F50>"
            ]
          },
          "metadata": {}
        },
        {
          "output_type": "display_data",
          "data": {
            "image/png": "[encoded data removed]",
            "text/plain": [
              "<PIL.Image.Image image mode=L size=26x22 at 0x7F4894638F50>"
            ]
          },
          "metadata": {}
        },
        {
          "output_type": "display_data",
          "data": {
            "image/png": "[encoded data removed]",
            "text/plain": [
              "<PIL.Image.Image image mode=L size=26x22 at 0x7F48946388D0>"
            ]
          },
          "metadata": {}
        },
        {
          "output_type": "display_data",
          "data": {
            "image/png": "[encoded data removed]",
            "text/plain": [
              "<PIL.Image.Image image mode=L size=26x22 at 0x7F4894563B90>"
            ]
          },
          "metadata": {}
        },
        {
          "output_type": "display_data",
          "data": {
            "image/png": "[encoded data removed]",
            "text/plain": [
              "<PIL.Image.Image image mode=L size=26x22 at 0x7F4894563B90>"
            ]
          },
          "metadata": {}
        },
        {
          "output_type": "display_data",
          "data": {
            "image/png": "[encoded data removed]",
            "text/plain": [
              "<PIL.Image.Image image mode=L size=26x22 at 0x7F4894563B90>"
            ]
          },
          "metadata": {}
        },
        {
          "output_type": "display_data",
          "data": {
            "image/png": "[encoded data removed]",
            "text/plain": [
              "<PIL.Image.Image image mode=L size=26x22 at 0x7F4894563B90>"
            ]
          },
          "metadata": {}
        },
        {
          "output_type": "display_data",
          "data": {
            "image/png": "[encoded data removed]",
            "text/plain": [
              "<PIL.Image.Image image mode=L size=26x22 at 0x7F4894563B90>"
            ]
          },
          "metadata": {}
        },
        {
          "output_type": "display_data",
          "data": {
            "image/png": "[encoded data removed]",
            "text/plain": [
              "<PIL.Image.Image image mode=L size=26x22 at 0x7F4894563B90>"
            ]
          },
          "metadata": {}
        },
        {
          "output_type": "display_data",
          "data": {
            "image/png": "[encoded data removed]",
            "text/plain": [
              "<PIL.Image.Image image mode=L size=26x22 at 0x7F4894563B90>"
            ]
          },
          "metadata": {}
        },
        {
          "output_type": "display_data",
          "data": {
            "image/png": "[encoded data removed]",
            "text/plain": [
              "<PIL.Image.Image image mode=L size=26x22 at 0x7F4894563B90>"
            ]
          },
          "metadata": {}
        },
        {
          "output_type": "display_data",
          "data": {
            "image/png": "[encoded data removed]",
            "text/plain": [
              "<PIL.Image.Image image mode=L size=26x22 at 0x7F4894563B90>"
            ]
          },
          "metadata": {}
        },
        {
          "output_type": "display_data",
          "data": {
            "image/png": "[encoded data removed]",
            "text/plain": [
              "<PIL.Image.Image image mode=L size=26x22 at 0x7F4894563B90>"
            ]
          },
          "metadata": {}
        },
        {
          "output_type": "display_data",
          "data": {
            "image/png": "[encoded data removed]",
            "text/plain": [
              "<PIL.Image.Image image mode=L size=26x22 at 0x7F4894563B90>"
            ]
          },
          "metadata": {}
        },
        {
          "output_type": "display_data",
          "data": {
            "image/png": "[encoded data removed]",
            "text/plain": [
              "<PIL.Image.Image image mode=L size=26x22 at 0x7F4894563B90>"
            ]
          },
          "metadata": {}
        },
        {
          "output_type": "display_data",
          "data": {
            "image/png": "[encoded data removed]",
            "text/plain": [
              "<PIL.Image.Image image mode=L size=26x22 at 0x7F4894563B90>"
            ]
          },
          "metadata": {}
        },
        {
          "output_type": "display_data",
          "data": {
            "image/png": "[encoded data removed]",
            "text/plain": [
              "<PIL.Image.Image image mode=L size=26x22 at 0x7F4894563B90>"
            ]
          },
          "metadata": {}
        },
        {
          "output_type": "display_data",
          "data": {
            "image/png": "[encoded data removed]",
            "text/plain": [
              "<PIL.Image.Image image mode=L size=26x22 at 0x7F4894563B90>"
            ]
          },
          "metadata": {}
        },
        {
          "output_type": "display_data",
          "data": {
            "image/png": "[encoded data removed]",
            "text/plain": [
              "<PIL.Image.Image image mode=L size=26x22 at 0x7F4894563B90>"
            ]
          },
          "metadata": {}
        },
        {
          "output_type": "display_data",
          "data": {
            "image/png": "[encoded data removed]",
            "text/plain": [
              "<PIL.Image.Image image mode=L size=26x22 at 0x7F4894563B90>"
            ]
          },
          "metadata": {}
        },
        {
          "output_type": "display_data",
          "data": {
            "image/png": "[encoded data removed]",
            "text/plain": [
              "<PIL.Image.Image image mode=L size=26x22 at 0x7F4894563B90>"
            ]
          },
          "metadata": {}
        },
        {
          "output_type": "display_data",
          "data": {
            "image/png": "[encoded data removed]",
            "text/plain": [
              "<PIL.Image.Image image mode=L size=26x22 at 0x7F4894563B90>"
            ]
          },
          "metadata": {}
        },
        {
          "output_type": "display_data",
          "data": {
            "image/png": "[encoded data removed]",
            "text/plain": [
              "<PIL.Image.Image image mode=L size=26x22 at 0x7F4894563B90>"
            ]
          },
          "metadata": {}
        },
        {
          "output_type": "display_data",
          "data": {
            "image/png": "[encoded data removed]",
            "text/plain": [
              "<PIL.Image.Image image mode=L size=26x22 at 0x7F4894563B90>"
            ]
          },
          "metadata": {}
        },
        {
          "output_type": "display_data",
          "data": {
            "image/png": "[encoded data removed]",
            "text/plain": [
              "<PIL.Image.Image image mode=L size=26x22 at 0x7F4894563B90>"
            ]
          },
          "metadata": {}
        },
        {
          "output_type": "display_data",
          "data": {
            "image/png": "[encoded data removed]",
            "text/plain": [
              "<PIL.Image.Image image mode=L size=26x22 at 0x7F4894563B90>"
            ]
          },
          "metadata": {}
        },
        {
          "output_type": "display_data",
          "data": {
            "image/png": "[encoded data removed]",
            "text/plain": [
              "<PIL.Image.Image image mode=L size=26x22 at 0x7F4894563B90>"
            ]
          },
          "metadata": {}
        },
        {
          "output_type": "display_data",
          "data": {
            "image/png": "[encoded data removed]",
            "text/plain": [
              "<PIL.Image.Image image mode=L size=26x22 at 0x7F4894563B90>"
            ]
          },
          "metadata": {}
        },
        {
          "output_type": "display_data",
          "data": {
            "image/png": "[encoded data removed]",
            "text/plain": [
              "<PIL.Image.Image image mode=L size=26x22 at 0x7F4894563B90>"
            ]
          },
          "metadata": {}
        },
        {
          "output_type": "display_data",
          "data": {
            "image/png": "[encoded data removed]",
            "text/plain": [
              "<PIL.Image.Image image mode=L size=26x22 at 0x7F4894563B90>"
            ]
          },
          "metadata": {}
        },
        {
          "output_type": "display_data",
          "data": {
            "image/png": "[encoded data removed]",
            "text/plain": [
              "<PIL.Image.Image image mode=L size=26x22 at 0x7F4894563B90>"
            ]
          },
          "metadata": {}
        },
        {
          "output_type": "display_data",
          "data": {
            "image/png": "[encoded data removed]",
            "text/plain": [
              "<PIL.Image.Image image mode=L size=26x22 at 0x7F4894563B90>"
            ]
          },
          "metadata": {}
        },
        {
          "output_type": "display_data",
          "data": {
            "image/png": "[encoded data removed]",
            "text/plain": [
              "<PIL.Image.Image image mode=L size=26x22 at 0x7F4894563B90>"
            ]
          },
          "metadata": {}
        },
        {
          "output_type": "display_data",
          "data": {
            "image/png": "[encoded data removed]",
            "text/plain": [
              "<PIL.Image.Image image mode=L size=26x22 at 0x7F4894563B90>"
            ]
          },
          "metadata": {}
        },
        {
          "output_type": "display_data",
          "data": {
            "image/png": "[encoded data removed]",
            "text/plain": [
              "<PIL.Image.Image image mode=L size=26x22 at 0x7F4894563B90>"
            ]
          },
          "metadata": {}
        },
        {
          "output_type": "display_data",
          "data": {
            "image/png": "[encoded data removed]",
            "text/plain": [
              "<PIL.Image.Image image mode=L size=26x22 at 0x7F4894563B90>"
            ]
          },
          "metadata": {}
        },
        {
          "output_type": "display_data",
          "data": {
            "image/png": "[encoded data removed]",
            "text/plain": [
              "<PIL.Image.Image image mode=L size=26x22 at 0x7F4894563B90>"
            ]
          },
          "metadata": {}
        },
        {
          "output_type": "display_data",
          "data": {
            "image/png": "[encoded data removed]",
            "text/plain": [
              "<PIL.Image.Image image mode=L size=26x22 at 0x7F4894563B90>"
            ]
          },
          "metadata": {}
        },
        {
          "output_type": "display_data",
          "data": {
            "image/png": "[encoded data removed]",
            "text/plain": [
              "<PIL.Image.Image image mode=L size=26x22 at 0x7F4894563B90>"
            ]
          },
          "metadata": {}
        },
        {
          "output_type": "display_data",
          "data": {
            "image/png": "[encoded data removed]",
            "text/plain": [
              "<PIL.Image.Image image mode=L size=26x22 at 0x7F4894563B90>"
            ]
          },
          "metadata": {}
        },
        {
          "output_type": "display_data",
          "data": {
            "image/png": "[encoded data removed]",
            "text/plain": [
              "<PIL.Image.Image image mode=L size=26x22 at 0x7F4894563B90>"
            ]
          },
          "metadata": {}
        },
        {
          "output_type": "display_data",
          "data": {
            "image/png": "[encoded data removed]",
            "text/plain": [
              "<PIL.Image.Image image mode=L size=26x22 at 0x7F4894563B90>"
            ]
          },
          "metadata": {}
        },
        {
          "output_type": "display_data",
          "data": {
            "image/png": "[encoded data removed]",
            "text/plain": [
              "<PIL.Image.Image image mode=L size=26x22 at 0x7F4894563B90>"
            ]
          },
          "metadata": {}
        },
        {
          "output_type": "display_data",
          "data": {
            "image/png": "[encoded data removed]",
            "text/plain": [
              "<PIL.Image.Image image mode=L size=26x22 at 0x7F4894563B90>"
            ]
          },
          "metadata": {}
        },
        {
          "output_type": "display_data",
          "data": {
            "image/png": "[encoded data removed]",
            "text/plain": [
              "<PIL.Image.Image image mode=L size=26x22 at 0x7F4894563B90>"
            ]
          },
          "metadata": {}
        },
        {
          "output_type": "display_data",
          "data": {
            "image/png": "[encoded data removed]",
            "text/plain": [
              "<PIL.Image.Image image mode=L size=26x22 at 0x7F4894563B90>"
            ]
          },
          "metadata": {}
        },
        {
          "output_type": "display_data",
          "data": {
            "image/png": "[encoded data removed]",
            "text/plain": [
              "<PIL.Image.Image image mode=L size=26x22 at 0x7F4894563B90>"
            ]
          },
          "metadata": {}
        },
        {
          "output_type": "display_data",
          "data": {
            "image/png": "[encoded data removed]",
            "text/plain": [
              "<PIL.Image.Image image mode=L size=26x22 at 0x7F4894563B90>"
            ]
          },
          "metadata": {}
        },
        {
          "output_type": "display_data",
          "data": {
            "image/png": "[encoded data removed]",
            "text/plain": [
              "<PIL.Image.Image image mode=L size=26x22 at 0x7F4894563B90>"
            ]
          },
          "metadata": {}
        },
        {
          "output_type": "display_data",
          "data": {
            "image/png": "[encoded data removed]",
            "text/plain": [
              "<PIL.Image.Image image mode=L size=26x22 at 0x7F4894563B90>"
            ]
          },
          "metadata": {}
        },
        {
          "output_type": "display_data",
          "data": {
            "image/png": "[encoded data removed]",
            "text/plain": [
              "<PIL.Image.Image image mode=L size=26x22 at 0x7F4894563B90>"
            ]
          },
          "metadata": {}
        },
        {
          "output_type": "display_data",
          "data": {
            "image/png": "[encoded data removed]",
            "text/plain": [
              "<PIL.Image.Image image mode=L size=26x22 at 0x7F4894563B90>"
            ]
          },
          "metadata": {}
        },
        {
          "output_type": "display_data",
          "data": {
            "image/png": "[encoded data removed]",
            "text/plain": [
              "<PIL.Image.Image image mode=L size=26x22 at 0x7F4894563B90>"
            ]
          },
          "metadata": {}
        },
        {
          "output_type": "display_data",
          "data": {
            "image/png": "[encoded data removed]",
            "text/plain": [
              "<PIL.Image.Image image mode=L size=26x22 at 0x7F4894563B90>"
            ]
          },
          "metadata": {}
        },
        {
          "output_type": "display_data",
          "data": {
            "image/png": "[encoded data removed]",
            "text/plain": [
              "<PIL.Image.Image image mode=L size=26x22 at 0x7F4894563B90>"
            ]
          },
          "metadata": {}
        },
        {
          "output_type": "display_data",
          "data": {
            "image/png": "[encoded data removed]",
            "text/plain": [
              "<PIL.Image.Image image mode=L size=26x22 at 0x7F4894563B90>"
            ]
          },
          "metadata": {}
        },
        {
          "output_type": "display_data",
          "data": {
            "image/png": "[encoded data removed]",
            "text/plain": [
              "<PIL.Image.Image image mode=L size=26x22 at 0x7F4894563B90>"
            ]
          },
          "metadata": {}
        },
        {
          "output_type": "display_data",
          "data": {
            "image/png": "[encoded data removed]",
            "text/plain": [
              "<PIL.Image.Image image mode=L size=26x22 at 0x7F4894563B90>"
            ]
          },
          "metadata": {}
        },
        {
          "output_type": "display_data",
          "data": {
            "image/png": "[encoded data removed]",
            "text/plain": [
              "<PIL.Image.Image image mode=L size=26x22 at 0x7F4894563B90>"
            ]
          },
          "metadata": {}
        },
        {
          "output_type": "display_data",
          "data": {
            "image/png": "[encoded data removed]",
            "text/plain": [
              "<PIL.Image.Image image mode=L size=26x22 at 0x7F4894563B90>"
            ]
          },
          "metadata": {}
        },
        {
          "output_type": "display_data",
          "data": {
            "image/png": "[encoded data removed]",
            "text/plain": [
              "<PIL.Image.Image image mode=L size=26x22 at 0x7F4894563B90>"
            ]
          },
          "metadata": {}
        },
        {
          "output_type": "display_data",
          "data": {
            "image/png": "[encoded data removed]",
            "text/plain": [
              "<PIL.Image.Image image mode=L size=26x22 at 0x7F4894563B90>"
            ]
          },
          "metadata": {}
        },
        {
          "output_type": "display_data",
          "data": {
            "image/png": "[encoded data removed]",
            "text/plain": [
              "<PIL.Image.Image image mode=L size=26x22 at 0x7F4894563B90>"
            ]
          },
          "metadata": {}
        },
        {
          "output_type": "display_data",
          "data": {
            "image/png": "[encoded data removed]",
            "text/plain": [
              "<PIL.Image.Image image mode=L size=26x22 at 0x7F4894563B90>"
            ]
          },
          "metadata": {}
        },
        {
          "output_type": "display_data",
          "data": {
            "image/png": "[encoded data removed]",
            "text/plain": [
              "<PIL.Image.Image image mode=L size=26x22 at 0x7F489455F710>"
            ]
          },
          "metadata": {}
        },
        {
          "output_type": "display_data",
          "data": {
            "image/png": "[encoded data removed]",
            "text/plain": [
              "<PIL.Image.Image image mode=L size=26x22 at 0x7F4894638250>"
            ]
          },
          "metadata": {}
        },
        {
          "output_type": "display_data",
          "data": {
            "image/png": "[encoded data removed]",
            "text/plain": [
              "<PIL.Image.Image image mode=L size=26x22 at 0x7F4894638F50>"
            ]
          },
          "metadata": {}
        },
        {
          "output_type": "display_data",
          "data": {
            "image/png": "[encoded data removed]",
            "text/plain": [
              "<PIL.Image.Image image mode=L size=26x22 at 0x7F489465B590>"
            ]
          },
          "metadata": {}
        },
        {
          "output_type": "display_data",
          "data": {
            "image/png": "[encoded data removed]",
            "text/plain": [
              "<PIL.Image.Image image mode=L size=26x22 at 0x7F4894563E10>"
            ]
          },
          "metadata": {}
        },
        {
          "output_type": "display_data",
          "data": {
            "image/png": "[encoded data removed]",
            "text/plain": [
              "<PIL.Image.Image image mode=L size=26x22 at 0x7F4894563E10>"
            ]
          },
          "metadata": {}
        },
        {
          "output_type": "display_data",
          "data": {
            "image/png": "[encoded data removed]",
            "text/plain": [
              "<PIL.Image.Image image mode=L size=26x22 at 0x7F4894638F50>"
            ]
          },
          "metadata": {}
        },
        {
          "output_type": "display_data",
          "data": {
            "image/png": "[encoded data removed]",
            "text/plain": [
              "<PIL.Image.Image image mode=L size=26x22 at 0x7F4894563C10>"
            ]
          },
          "metadata": {}
        },
        {
          "output_type": "display_data",
          "data": {
            "image/png": "[encoded data removed]",
            "text/plain": [
              "<PIL.Image.Image image mode=L size=26x22 at 0x7F4894563C10>"
            ]
          },
          "metadata": {}
        },
        {
          "output_type": "display_data",
          "data": {
            "image/png": "[encoded data removed]",
            "text/plain": [
              "<PIL.Image.Image image mode=L size=26x22 at 0x7F489465B510>"
            ]
          },
          "metadata": {}
        },
        {
          "output_type": "display_data",
          "data": {
            "image/png": "[encoded data removed]",
            "text/plain": [
              "<PIL.Image.Image image mode=L size=26x22 at 0x7F4894563B90>"
            ]
          },
          "metadata": {}
        },
        {
          "output_type": "display_data",
          "data": {
            "image/png": "[encoded data removed]",
            "text/plain": [
              "<PIL.Image.Image image mode=L size=26x22 at 0x7F4894563E10>"
            ]
          },
          "metadata": {}
        },
        {
          "output_type": "display_data",
          "data": {
            "image/png": "[encoded data removed]",
            "text/plain": [
              "<PIL.Image.Image image mode=L size=26x22 at 0x7F48946388D0>"
            ]
          },
          "metadata": {}
        },
        {
          "output_type": "display_data",
          "data": {
            "image/png": "[encoded data removed]",
            "text/plain": [
              "<PIL.Image.Image image mode=L size=26x22 at 0x7F48946388D0>"
            ]
          },
          "metadata": {}
        },
        {
          "output_type": "display_data",
          "data": {
            "image/png": "[encoded data removed]",
            "text/plain": [
              "<PIL.Image.Image image mode=L size=26x22 at 0x7F4894563D10>"
            ]
          },
          "metadata": {}
        },
        {
          "output_type": "display_data",
          "data": {
            "image/png": "[encoded data removed]",
            "text/plain": [
              "<PIL.Image.Image image mode=L size=26x22 at 0x7F4894563D10>"
            ]
          },
          "metadata": {}
        },
        {
          "output_type": "display_data",
          "data": {
            "image/png": "[encoded data removed]",
            "text/plain": [
              "<PIL.Image.Image image mode=L size=26x22 at 0x7F4894638250>"
            ]
          },
          "metadata": {}
        },
        {
          "output_type": "display_data",
          "data": {
            "image/png": "[encoded data removed]",
            "text/plain": [
              "<PIL.Image.Image image mode=L size=26x22 at 0x7F4894638250>"
            ]
          },
          "metadata": {}
        },
        {
          "output_type": "display_data",
          "data": {
            "image/png": "[encoded data removed]",
            "text/plain": [
              "<PIL.Image.Image image mode=L size=26x22 at 0x7F4894563E10>"
            ]
          },
          "metadata": {}
        },
        {
          "output_type": "display_data",
          "data": {
            "image/png": "[encoded data removed]",
            "text/plain": [
              "<PIL.Image.Image image mode=L size=26x22 at 0x7F4894563E10>"
            ]
          },
          "metadata": {}
        },
        {
          "output_type": "display_data",
          "data": {
            "image/png": "[encoded data removed]",
            "text/plain": [
              "<PIL.Image.Image image mode=L size=26x22 at 0x7F48946388D0>"
            ]
          },
          "metadata": {}
        },
        {
          "output_type": "display_data",
          "data": {
            "image/png": "[encoded data removed]",
            "text/plain": [
              "<PIL.Image.Image image mode=L size=26x22 at 0x7F48946388D0>"
            ]
          },
          "metadata": {}
        },
        {
          "output_type": "display_data",
          "data": {
            "image/png": "[encoded data removed]",
            "text/plain": [
              "<PIL.Image.Image image mode=L size=26x22 at 0x7F4894563D10>"
            ]
          },
          "metadata": {}
        },
        {
          "output_type": "display_data",
          "data": {
            "image/png": "[encoded data removed]",
            "text/plain": [
              "<PIL.Image.Image image mode=L size=26x22 at 0x7F4894563D10>"
            ]
          },
          "metadata": {}
        },
        {
          "output_type": "display_data",
          "data": {
            "image/png": "[encoded data removed]",
            "text/plain": [
              "<PIL.Image.Image image mode=L size=26x22 at 0x7F4894638250>"
            ]
          },
          "metadata": {}
        },
        {
          "output_type": "display_data",
          "data": {
            "image/png": "[encoded data removed]",
            "text/plain": [
              "<PIL.Image.Image image mode=L size=26x22 at 0x7F4894638250>"
            ]
          },
          "metadata": {}
        },
        {
          "output_type": "display_data",
          "data": {
            "image/png": "[encoded data removed]",
            "text/plain": [
              "<PIL.Image.Image image mode=L size=26x22 at 0x7F4894563E10>"
            ]
          },
          "metadata": {}
        },
        {
          "output_type": "display_data",
          "data": {
            "image/png": "[encoded data removed]",
            "text/plain": [
              "<PIL.Image.Image image mode=L size=26x22 at 0x7F4894563E10>"
            ]
          },
          "metadata": {}
        },
        {
          "output_type": "display_data",
          "data": {
            "image/png": "[encoded data removed]",
            "text/plain": [
              "<PIL.Image.Image image mode=L size=26x22 at 0x7F48946388D0>"
            ]
          },
          "metadata": {}
        },
        {
          "output_type": "display_data",
          "data": {
            "image/png": "[encoded data removed]",
            "text/plain": [
              "<PIL.Image.Image image mode=L size=26x22 at 0x7F48946388D0>"
            ]
          },
          "metadata": {}
        },
        {
          "output_type": "display_data",
          "data": {
            "image/png": "[encoded data removed]",
            "text/plain": [
              "<PIL.Image.Image image mode=L size=26x22 at 0x7F4894563D10>"
            ]
          },
          "metadata": {}
        },
        {
          "output_type": "display_data",
          "data": {
            "image/png": "[encoded data removed]",
            "text/plain": [
              "<PIL.Image.Image image mode=L size=26x22 at 0x7F4894563D10>"
            ]
          },
          "metadata": {}
        },
        {
          "output_type": "display_data",
          "data": {
            "image/png": "[encoded data removed]",
            "text/plain": [
              "<PIL.Image.Image image mode=L size=26x22 at 0x7F4894576450>"
            ]
          },
          "metadata": {}
        },
        {
          "output_type": "display_data",
          "data": {
            "image/png": "[encoded data removed]",
            "text/plain": [
              "<PIL.Image.Image image mode=L size=26x22 at 0x7F4894563E10>"
            ]
          },
          "metadata": {}
        },
        {
          "output_type": "display_data",
          "data": {
            "image/png": "[encoded data removed]",
            "text/plain": [
              "<PIL.Image.Image image mode=L size=26x22 at 0x7F48946388D0>"
            ]
          },
          "metadata": {}
        },
        {
          "output_type": "display_data",
          "data": {
            "image/png": "[encoded data removed]",
            "text/plain": [
              "<PIL.Image.Image image mode=L size=26x22 at 0x7F4894638250>"
            ]
          },
          "metadata": {}
        },
        {
          "output_type": "display_data",
          "data": {
            "image/png": "[encoded data removed]",
            "text/plain": [
              "<PIL.Image.Image image mode=L size=26x22 at 0x7F4894563D10>"
            ]
          },
          "metadata": {}
        },
        {
          "output_type": "display_data",
          "data": {
            "image/png": "[encoded data removed]",
            "text/plain": [
              "<PIL.Image.Image image mode=L size=26x22 at 0x7F4894563D10>"
            ]
          },
          "metadata": {}
        },
        {
          "output_type": "display_data",
          "data": {
            "image/png": "[encoded data removed]",
            "text/plain": [
              "<PIL.Image.Image image mode=L size=26x22 at 0x7F489465B510>"
            ]
          },
          "metadata": {}
        },
        {
          "output_type": "display_data",
          "data": {
            "image/png": "[encoded data removed]",
            "text/plain": [
              "<PIL.Image.Image image mode=L size=26x22 at 0x7F4894563D10>"
            ]
          },
          "metadata": {}
        },
        {
          "output_type": "display_data",
          "data": {
            "image/png": "[encoded data removed]",
            "text/plain": [
              "<PIL.Image.Image image mode=L size=26x22 at 0x7F4894563D10>"
            ]
          },
          "metadata": {}
        },
        {
          "output_type": "display_data",
          "data": {
            "image/png": "[encoded data removed]",
            "text/plain": [
              "<PIL.Image.Image image mode=L size=26x22 at 0x7F4894638F50>"
            ]
          },
          "metadata": {}
        },
        {
          "output_type": "display_data",
          "data": {
            "image/png": "[encoded data removed]",
            "text/plain": [
              "<PIL.Image.Image image mode=L size=26x22 at 0x7F4894638F50>"
            ]
          },
          "metadata": {}
        },
        {
          "output_type": "display_data",
          "data": {
            "image/png": "[encoded data removed]",
            "text/plain": [
              "<PIL.Image.Image image mode=L size=26x22 at 0x7F4894563C10>"
            ]
          },
          "metadata": {}
        },
        {
          "output_type": "display_data",
          "data": {
            "image/png": "[encoded data removed]",
            "text/plain": [
              "<PIL.Image.Image image mode=L size=26x22 at 0x7F4894563C10>"
            ]
          },
          "metadata": {}
        },
        {
          "output_type": "display_data",
          "data": {
            "image/png": "[encoded data removed]",
            "text/plain": [
              "<PIL.Image.Image image mode=L size=26x22 at 0x7F4894638250>"
            ]
          },
          "metadata": {}
        },
        {
          "output_type": "display_data",
          "data": {
            "image/png": "[encoded data removed]",
            "text/plain": [
              "<PIL.Image.Image image mode=L size=26x22 at 0x7F4894638250>"
            ]
          },
          "metadata": {}
        },
        {
          "output_type": "error",
          "ename": "KeyboardInterrupt",
          "evalue": "ignored",
          "traceback": [
            "\u001b[0;31m---------------------------------------------------------------------------\u001b[0m",
            "\u001b[0;31mKeyboardInterrupt\u001b[0m                         Traceback (most recent call last)",
            "\u001b[0;32m<ipython-input-60-8929b1004c8a>\u001b[0m in \u001b[0;36m<module>\u001b[0;34m()\u001b[0m\n\u001b[1;32m      1\u001b[0m \u001b[0mreset_weights\u001b[0m\u001b[0;34m(\u001b[0m\u001b[0mchar_model\u001b[0m\u001b[0;34m)\u001b[0m\u001b[0;34m\u001b[0m\u001b[0;34m\u001b[0m\u001b[0m\n\u001b[0;32m----> 2\u001b[0;31m \u001b[0mcharArray\u001b[0m\u001b[0;34m,\u001b[0m \u001b[0mcharEncodeArray\u001b[0m\u001b[0;34m,\u001b[0m \u001b[0mnumArray\u001b[0m\u001b[0;34m,\u001b[0m \u001b[0mnumEncodeArray\u001b[0m \u001b[0;34m=\u001b[0m \u001b[0marrays_for_nn\u001b[0m\u001b[0;34m(\u001b[0m\u001b[0;34m)\u001b[0m\u001b[0;34m\u001b[0m\u001b[0;34m\u001b[0m\u001b[0m\n\u001b[0m\u001b[1;32m      3\u001b[0m \u001b[0mprint\u001b[0m\u001b[0;34m(\u001b[0m\u001b[0mlen\u001b[0m\u001b[0;34m(\u001b[0m\u001b[0mcharArray\u001b[0m\u001b[0;34m)\u001b[0m\u001b[0;34m)\u001b[0m\u001b[0;34m\u001b[0m\u001b[0;34m\u001b[0m\u001b[0m\n\u001b[1;32m      4\u001b[0m \u001b[0mcharArray\u001b[0m \u001b[0;34m=\u001b[0m \u001b[0mnp\u001b[0m\u001b[0;34m.\u001b[0m\u001b[0masarray\u001b[0m\u001b[0;34m(\u001b[0m\u001b[0mcharArray\u001b[0m\u001b[0;34m)\u001b[0m\u001b[0;34m\u001b[0m\u001b[0;34m\u001b[0m\u001b[0m\n\u001b[1;32m      5\u001b[0m \u001b[0mcharEncodeArray\u001b[0m \u001b[0;34m=\u001b[0m \u001b[0mnp\u001b[0m\u001b[0;34m.\u001b[0m\u001b[0masarray\u001b[0m\u001b[0;34m(\u001b[0m\u001b[0mcharEncodeArray\u001b[0m\u001b[0;34m)\u001b[0m\u001b[0;34m\u001b[0m\u001b[0;34m\u001b[0m\u001b[0m\n",
            "\u001b[0;32m<ipython-input-12-b3777ab9d8b4>\u001b[0m in \u001b[0;36marrays_for_nn\u001b[0;34m()\u001b[0m\n\u001b[1;32m     14\u001b[0m   \u001b[0;32mfor\u001b[0m \u001b[0mplate\u001b[0m \u001b[0;32min\u001b[0m \u001b[0mrange\u001b[0m\u001b[0;34m(\u001b[0m\u001b[0;36m285\u001b[0m\u001b[0;34m)\u001b[0m\u001b[0;34m:\u001b[0m\u001b[0;34m\u001b[0m\u001b[0;34m\u001b[0m\u001b[0m\n\u001b[1;32m     15\u001b[0m     \u001b[0;32mfor\u001b[0m \u001b[0mx_shift\u001b[0m \u001b[0;32min\u001b[0m \u001b[0mx\u001b[0m\u001b[0;34m:\u001b[0m\u001b[0;34m\u001b[0m\u001b[0;34m\u001b[0m\u001b[0m\n\u001b[0;32m---> 16\u001b[0;31m       \u001b[0mfirst_char\u001b[0m\u001b[0;34m,\u001b[0m\u001b[0msecond_char\u001b[0m\u001b[0;34m,\u001b[0m \u001b[0mfirst_num\u001b[0m\u001b[0;34m,\u001b[0m \u001b[0msecond_num\u001b[0m\u001b[0;34m,\u001b[0m \u001b[0mchar1\u001b[0m\u001b[0;34m,\u001b[0m\u001b[0mchar2\u001b[0m\u001b[0;34m,\u001b[0m\u001b[0mnum1\u001b[0m\u001b[0;34m,\u001b[0m\u001b[0mnum2\u001b[0m \u001b[0;34m=\u001b[0m \u001b[0mfour_photo_return\u001b[0m\u001b[0;34m(\u001b[0m\u001b[0mplate\u001b[0m\u001b[0;34m,\u001b[0m \u001b[0mx_shift\u001b[0m\u001b[0;34m,\u001b[0m \u001b[0my_shift\u001b[0m\u001b[0;34m)\u001b[0m\u001b[0;34m\u001b[0m\u001b[0;34m\u001b[0m\u001b[0m\n\u001b[0m\u001b[1;32m     17\u001b[0m       \u001b[0mcharArray\u001b[0m\u001b[0;34m.\u001b[0m\u001b[0mappend\u001b[0m\u001b[0;34m(\u001b[0m\u001b[0mfirst_char\u001b[0m\u001b[0;34m)\u001b[0m\u001b[0;34m\u001b[0m\u001b[0;34m\u001b[0m\u001b[0m\n\u001b[1;32m     18\u001b[0m       \u001b[0mzeroArray\u001b[0m \u001b[0;34m=\u001b[0m \u001b[0mnp\u001b[0m\u001b[0;34m.\u001b[0m\u001b[0mzeros\u001b[0m\u001b[0;34m(\u001b[0m\u001b[0;36m26\u001b[0m\u001b[0;34m)\u001b[0m\u001b[0;34m\u001b[0m\u001b[0;34m\u001b[0m\u001b[0m\n",
            "\u001b[0;32m<ipython-input-55-397e3aaaf33b>\u001b[0m in \u001b[0;36mfour_photo_return\u001b[0;34m(plate, x_shift, y_shift)\u001b[0m\n\u001b[1;32m     48\u001b[0m   \u001b[0msecond_num\u001b[0m \u001b[0;34m=\u001b[0m \u001b[0mcv\u001b[0m\u001b[0;34m.\u001b[0m\u001b[0mresize\u001b[0m\u001b[0;34m(\u001b[0m\u001b[0mplate_chars\u001b[0m\u001b[0;34m[\u001b[0m\u001b[0;36m3\u001b[0m\u001b[0;34m]\u001b[0m\u001b[0;34m,\u001b[0m \u001b[0;34m(\u001b[0m\u001b[0;36m26\u001b[0m\u001b[0;34m,\u001b[0m\u001b[0;36m22\u001b[0m\u001b[0;34m)\u001b[0m\u001b[0;34m,\u001b[0m \u001b[0minterpolation\u001b[0m \u001b[0;34m=\u001b[0m \u001b[0mcv\u001b[0m\u001b[0;34m.\u001b[0m\u001b[0mINTER_AREA\u001b[0m\u001b[0;34m)\u001b[0m\u001b[0;34m\u001b[0m\u001b[0;34m\u001b[0m\u001b[0m\n\u001b[1;32m     49\u001b[0m \u001b[0;34m\u001b[0m\u001b[0m\n\u001b[0;32m---> 50\u001b[0;31m   \u001b[0mcv2_imshow\u001b[0m\u001b[0;34m(\u001b[0m\u001b[0mfirst_char\u001b[0m\u001b[0;34m)\u001b[0m\u001b[0;34m\u001b[0m\u001b[0;34m\u001b[0m\u001b[0m\n\u001b[0m\u001b[1;32m     51\u001b[0m   \u001b[0mcv2_imshow\u001b[0m\u001b[0;34m(\u001b[0m\u001b[0msecond_char\u001b[0m\u001b[0;34m)\u001b[0m\u001b[0;34m\u001b[0m\u001b[0;34m\u001b[0m\u001b[0m\n\u001b[1;32m     52\u001b[0m   \u001b[0mcv2_imshow\u001b[0m\u001b[0;34m(\u001b[0m\u001b[0mfirst_num\u001b[0m\u001b[0;34m)\u001b[0m\u001b[0;34m\u001b[0m\u001b[0;34m\u001b[0m\u001b[0m\n",
            "\u001b[0;32m/usr/local/lib/python3.7/dist-packages/google/colab/patches/__init__.py\u001b[0m in \u001b[0;36mcv2_imshow\u001b[0;34m(a)\u001b[0m\n\u001b[1;32m     27\u001b[0m     \u001b[0;32melse\u001b[0m\u001b[0;34m:\u001b[0m\u001b[0;34m\u001b[0m\u001b[0;34m\u001b[0m\u001b[0m\n\u001b[1;32m     28\u001b[0m       \u001b[0ma\u001b[0m \u001b[0;34m=\u001b[0m \u001b[0mcv2\u001b[0m\u001b[0;34m.\u001b[0m\u001b[0mcvtColor\u001b[0m\u001b[0;34m(\u001b[0m\u001b[0ma\u001b[0m\u001b[0;34m,\u001b[0m \u001b[0mcv2\u001b[0m\u001b[0;34m.\u001b[0m\u001b[0mCOLOR_BGR2RGB\u001b[0m\u001b[0;34m)\u001b[0m\u001b[0;34m\u001b[0m\u001b[0;34m\u001b[0m\u001b[0m\n\u001b[0;32m---> 29\u001b[0;31m   \u001b[0mdisplay\u001b[0m\u001b[0;34m.\u001b[0m\u001b[0mdisplay\u001b[0m\u001b[0;34m(\u001b[0m\u001b[0mPIL\u001b[0m\u001b[0;34m.\u001b[0m\u001b[0mImage\u001b[0m\u001b[0;34m.\u001b[0m\u001b[0mfromarray\u001b[0m\u001b[0;34m(\u001b[0m\u001b[0ma\u001b[0m\u001b[0;34m)\u001b[0m\u001b[0;34m)\u001b[0m\u001b[0;34m\u001b[0m\u001b[0;34m\u001b[0m\u001b[0m\n\u001b[0m\u001b[1;32m     30\u001b[0m \u001b[0;34m\u001b[0m\u001b[0m\n\u001b[1;32m     31\u001b[0m \u001b[0;34m\u001b[0m\u001b[0m\n",
            "\u001b[0;32m/usr/local/lib/python3.7/dist-packages/IPython/core/display.py\u001b[0m in \u001b[0;36mdisplay\u001b[0;34m(*objs, **kwargs)\u001b[0m\n\u001b[1;32m    311\u001b[0m                 \u001b[0;31m# kwarg-specified metadata gets precedence\u001b[0m\u001b[0;34m\u001b[0m\u001b[0;34m\u001b[0m\u001b[0;34m\u001b[0m\u001b[0m\n\u001b[1;32m    312\u001b[0m                 \u001b[0m_merge\u001b[0m\u001b[0;34m(\u001b[0m\u001b[0mmd_dict\u001b[0m\u001b[0;34m,\u001b[0m \u001b[0mmetadata\u001b[0m\u001b[0;34m)\u001b[0m\u001b[0;34m\u001b[0m\u001b[0;34m\u001b[0m\u001b[0m\n\u001b[0;32m--> 313\u001b[0;31m             \u001b[0mpublish_display_data\u001b[0m\u001b[0;34m(\u001b[0m\u001b[0mdata\u001b[0m\u001b[0;34m=\u001b[0m\u001b[0mformat_dict\u001b[0m\u001b[0;34m,\u001b[0m \u001b[0mmetadata\u001b[0m\u001b[0;34m=\u001b[0m\u001b[0mmd_dict\u001b[0m\u001b[0;34m,\u001b[0m \u001b[0;34m**\u001b[0m\u001b[0mkwargs\u001b[0m\u001b[0;34m)\u001b[0m\u001b[0;34m\u001b[0m\u001b[0;34m\u001b[0m\u001b[0m\n\u001b[0m\u001b[1;32m    314\u001b[0m     \u001b[0;32mif\u001b[0m \u001b[0mdisplay_id\u001b[0m\u001b[0;34m:\u001b[0m\u001b[0;34m\u001b[0m\u001b[0;34m\u001b[0m\u001b[0m\n\u001b[1;32m    315\u001b[0m         \u001b[0;32mreturn\u001b[0m \u001b[0mDisplayHandle\u001b[0m\u001b[0;34m(\u001b[0m\u001b[0mdisplay_id\u001b[0m\u001b[0;34m)\u001b[0m\u001b[0;34m\u001b[0m\u001b[0;34m\u001b[0m\u001b[0m\n",
            "\u001b[0;32m/usr/local/lib/python3.7/dist-packages/IPython/core/display.py\u001b[0m in \u001b[0;36mpublish_display_data\u001b[0;34m(data, metadata, source, **kwargs)\u001b[0m\n\u001b[1;32m    130\u001b[0m         \u001b[0mdata\u001b[0m\u001b[0;34m=\u001b[0m\u001b[0mdata\u001b[0m\u001b[0;34m,\u001b[0m\u001b[0;34m\u001b[0m\u001b[0;34m\u001b[0m\u001b[0m\n\u001b[1;32m    131\u001b[0m         \u001b[0mmetadata\u001b[0m\u001b[0;34m=\u001b[0m\u001b[0mmetadata\u001b[0m\u001b[0;34m,\u001b[0m\u001b[0;34m\u001b[0m\u001b[0;34m\u001b[0m\u001b[0m\n\u001b[0;32m--> 132\u001b[0;31m         \u001b[0;34m**\u001b[0m\u001b[0mkwargs\u001b[0m\u001b[0;34m\u001b[0m\u001b[0;34m\u001b[0m\u001b[0m\n\u001b[0m\u001b[1;32m    133\u001b[0m     )\n\u001b[1;32m    134\u001b[0m \u001b[0;34m\u001b[0m\u001b[0m\n",
            "\u001b[0;32m/usr/local/lib/python3.7/dist-packages/ipykernel/zmqshell.py\u001b[0m in \u001b[0;36mpublish\u001b[0;34m(self, data, metadata, source, transient, update)\u001b[0m\n\u001b[1;32m    110\u001b[0m             \u001b[0mIf\u001b[0m \u001b[0;32mTrue\u001b[0m\u001b[0;34m,\u001b[0m \u001b[0msend\u001b[0m \u001b[0man\u001b[0m \u001b[0mupdate_display_data\u001b[0m \u001b[0mmessage\u001b[0m \u001b[0minstead\u001b[0m \u001b[0mof\u001b[0m \u001b[0mdisplay_data\u001b[0m\u001b[0;34m.\u001b[0m\u001b[0;34m\u001b[0m\u001b[0;34m\u001b[0m\u001b[0m\n\u001b[1;32m    111\u001b[0m         \"\"\"\n\u001b[0;32m--> 112\u001b[0;31m         \u001b[0mself\u001b[0m\u001b[0;34m.\u001b[0m\u001b[0m_flush_streams\u001b[0m\u001b[0;34m(\u001b[0m\u001b[0;34m)\u001b[0m\u001b[0;34m\u001b[0m\u001b[0;34m\u001b[0m\u001b[0m\n\u001b[0m\u001b[1;32m    113\u001b[0m         \u001b[0;32mif\u001b[0m \u001b[0mmetadata\u001b[0m \u001b[0;32mis\u001b[0m \u001b[0;32mNone\u001b[0m\u001b[0;34m:\u001b[0m\u001b[0;34m\u001b[0m\u001b[0;34m\u001b[0m\u001b[0m\n\u001b[1;32m    114\u001b[0m             \u001b[0mmetadata\u001b[0m \u001b[0;34m=\u001b[0m \u001b[0;34m{\u001b[0m\u001b[0;34m}\u001b[0m\u001b[0;34m\u001b[0m\u001b[0;34m\u001b[0m\u001b[0m\n",
            "\u001b[0;32m/usr/local/lib/python3.7/dist-packages/ipykernel/zmqshell.py\u001b[0m in \u001b[0;36m_flush_streams\u001b[0;34m(self)\u001b[0m\n\u001b[1;32m     77\u001b[0m     \u001b[0;32mdef\u001b[0m \u001b[0m_flush_streams\u001b[0m\u001b[0;34m(\u001b[0m\u001b[0mself\u001b[0m\u001b[0;34m)\u001b[0m\u001b[0;34m:\u001b[0m\u001b[0;34m\u001b[0m\u001b[0;34m\u001b[0m\u001b[0m\n\u001b[1;32m     78\u001b[0m         \u001b[0;34m\"\"\"flush IO Streams prior to display\"\"\"\u001b[0m\u001b[0;34m\u001b[0m\u001b[0;34m\u001b[0m\u001b[0m\n\u001b[0;32m---> 79\u001b[0;31m         \u001b[0msys\u001b[0m\u001b[0;34m.\u001b[0m\u001b[0mstdout\u001b[0m\u001b[0;34m.\u001b[0m\u001b[0mflush\u001b[0m\u001b[0;34m(\u001b[0m\u001b[0;34m)\u001b[0m\u001b[0;34m\u001b[0m\u001b[0;34m\u001b[0m\u001b[0m\n\u001b[0m\u001b[1;32m     80\u001b[0m         \u001b[0msys\u001b[0m\u001b[0;34m.\u001b[0m\u001b[0mstderr\u001b[0m\u001b[0;34m.\u001b[0m\u001b[0mflush\u001b[0m\u001b[0;34m(\u001b[0m\u001b[0;34m)\u001b[0m\u001b[0;34m\u001b[0m\u001b[0;34m\u001b[0m\u001b[0m\n\u001b[1;32m     81\u001b[0m \u001b[0;34m\u001b[0m\u001b[0m\n",
            "\u001b[0;32m/usr/local/lib/python3.7/dist-packages/ipykernel/iostream.py\u001b[0m in \u001b[0;36mflush\u001b[0;34m(self)\u001b[0m\n\u001b[1;32m    339\u001b[0m         \u001b[0;32mif\u001b[0m \u001b[0mself\u001b[0m\u001b[0;34m.\u001b[0m\u001b[0mpub_thread\u001b[0m\u001b[0;34m.\u001b[0m\u001b[0mthread\u001b[0m\u001b[0;34m.\u001b[0m\u001b[0mis_alive\u001b[0m\u001b[0;34m(\u001b[0m\u001b[0;34m)\u001b[0m\u001b[0;34m:\u001b[0m\u001b[0;34m\u001b[0m\u001b[0;34m\u001b[0m\u001b[0m\n\u001b[1;32m    340\u001b[0m             \u001b[0;31m# request flush on the background thread\u001b[0m\u001b[0;34m\u001b[0m\u001b[0;34m\u001b[0m\u001b[0;34m\u001b[0m\u001b[0m\n\u001b[0;32m--> 341\u001b[0;31m             \u001b[0mself\u001b[0m\u001b[0;34m.\u001b[0m\u001b[0mpub_thread\u001b[0m\u001b[0;34m.\u001b[0m\u001b[0mschedule\u001b[0m\u001b[0;34m(\u001b[0m\u001b[0mself\u001b[0m\u001b[0;34m.\u001b[0m\u001b[0m_flush\u001b[0m\u001b[0;34m)\u001b[0m\u001b[0;34m\u001b[0m\u001b[0;34m\u001b[0m\u001b[0m\n\u001b[0m\u001b[1;32m    342\u001b[0m             \u001b[0;31m# wait for flush to actually get through, if we can.\u001b[0m\u001b[0;34m\u001b[0m\u001b[0;34m\u001b[0m\u001b[0;34m\u001b[0m\u001b[0m\n\u001b[1;32m    343\u001b[0m             \u001b[0;31m# waiting across threads during import can cause deadlocks\u001b[0m\u001b[0;34m\u001b[0m\u001b[0;34m\u001b[0m\u001b[0;34m\u001b[0m\u001b[0m\n",
            "\u001b[0;32m/usr/local/lib/python3.7/dist-packages/ipykernel/iostream.py\u001b[0m in \u001b[0;36mschedule\u001b[0;34m(self, f)\u001b[0m\n\u001b[1;32m    201\u001b[0m             \u001b[0mself\u001b[0m\u001b[0;34m.\u001b[0m\u001b[0m_events\u001b[0m\u001b[0;34m.\u001b[0m\u001b[0mappend\u001b[0m\u001b[0;34m(\u001b[0m\u001b[0mf\u001b[0m\u001b[0;34m)\u001b[0m\u001b[0;34m\u001b[0m\u001b[0;34m\u001b[0m\u001b[0m\n\u001b[1;32m    202\u001b[0m             \u001b[0;31m# wake event thread (message content is ignored)\u001b[0m\u001b[0;34m\u001b[0m\u001b[0;34m\u001b[0m\u001b[0;34m\u001b[0m\u001b[0m\n\u001b[0;32m--> 203\u001b[0;31m             \u001b[0mself\u001b[0m\u001b[0;34m.\u001b[0m\u001b[0m_event_pipe\u001b[0m\u001b[0;34m.\u001b[0m\u001b[0msend\u001b[0m\u001b[0;34m(\u001b[0m\u001b[0;34mb''\u001b[0m\u001b[0;34m)\u001b[0m\u001b[0;34m\u001b[0m\u001b[0;34m\u001b[0m\u001b[0m\n\u001b[0m\u001b[1;32m    204\u001b[0m         \u001b[0;32melse\u001b[0m\u001b[0;34m:\u001b[0m\u001b[0;34m\u001b[0m\u001b[0;34m\u001b[0m\u001b[0m\n\u001b[1;32m    205\u001b[0m             \u001b[0mf\u001b[0m\u001b[0;34m(\u001b[0m\u001b[0;34m)\u001b[0m\u001b[0;34m\u001b[0m\u001b[0;34m\u001b[0m\u001b[0m\n",
            "\u001b[0;32m/usr/local/lib/python3.7/dist-packages/zmq/sugar/socket.py\u001b[0m in \u001b[0;36msend\u001b[0;34m(self, data, flags, copy, track, routing_id, group)\u001b[0m\n\u001b[1;32m    545\u001b[0m                 )\n\u001b[1;32m    546\u001b[0m             \u001b[0mdata\u001b[0m\u001b[0;34m.\u001b[0m\u001b[0mgroup\u001b[0m \u001b[0;34m=\u001b[0m \u001b[0mgroup\u001b[0m\u001b[0;34m\u001b[0m\u001b[0;34m\u001b[0m\u001b[0m\n\u001b[0;32m--> 547\u001b[0;31m         \u001b[0;32mreturn\u001b[0m \u001b[0msuper\u001b[0m\u001b[0;34m(\u001b[0m\u001b[0mSocket\u001b[0m\u001b[0;34m,\u001b[0m \u001b[0mself\u001b[0m\u001b[0;34m)\u001b[0m\u001b[0;34m.\u001b[0m\u001b[0msend\u001b[0m\u001b[0;34m(\u001b[0m\u001b[0mdata\u001b[0m\u001b[0;34m,\u001b[0m \u001b[0mflags\u001b[0m\u001b[0;34m=\u001b[0m\u001b[0mflags\u001b[0m\u001b[0;34m,\u001b[0m \u001b[0mcopy\u001b[0m\u001b[0;34m=\u001b[0m\u001b[0mcopy\u001b[0m\u001b[0;34m,\u001b[0m \u001b[0mtrack\u001b[0m\u001b[0;34m=\u001b[0m\u001b[0mtrack\u001b[0m\u001b[0;34m)\u001b[0m\u001b[0;34m\u001b[0m\u001b[0;34m\u001b[0m\u001b[0m\n\u001b[0m\u001b[1;32m    548\u001b[0m \u001b[0;34m\u001b[0m\u001b[0m\n\u001b[1;32m    549\u001b[0m     \u001b[0;32mdef\u001b[0m \u001b[0msend_multipart\u001b[0m\u001b[0;34m(\u001b[0m\u001b[0mself\u001b[0m\u001b[0;34m,\u001b[0m \u001b[0mmsg_parts\u001b[0m\u001b[0;34m,\u001b[0m \u001b[0mflags\u001b[0m\u001b[0;34m=\u001b[0m\u001b[0;36m0\u001b[0m\u001b[0;34m,\u001b[0m \u001b[0mcopy\u001b[0m\u001b[0;34m=\u001b[0m\u001b[0;32mTrue\u001b[0m\u001b[0;34m,\u001b[0m \u001b[0mtrack\u001b[0m\u001b[0;34m=\u001b[0m\u001b[0;32mFalse\u001b[0m\u001b[0;34m,\u001b[0m \u001b[0;34m**\u001b[0m\u001b[0mkwargs\u001b[0m\u001b[0;34m)\u001b[0m\u001b[0;34m:\u001b[0m\u001b[0;34m\u001b[0m\u001b[0;34m\u001b[0m\u001b[0m\n",
            "\u001b[0;32mzmq/backend/cython/socket.pyx\u001b[0m in \u001b[0;36mzmq.backend.cython.socket.Socket.send\u001b[0;34m()\u001b[0m\n",
            "\u001b[0;32mzmq/backend/cython/socket.pyx\u001b[0m in \u001b[0;36mzmq.backend.cython.socket.Socket.send\u001b[0;34m()\u001b[0m\n",
            "\u001b[0;32mzmq/backend/cython/socket.pyx\u001b[0m in \u001b[0;36mzmq.backend.cython.socket._send_copy\u001b[0;34m()\u001b[0m\n",
            "\u001b[0;32m/usr/local/lib/python3.7/dist-packages/zmq/backend/cython/checkrc.pxd\u001b[0m in \u001b[0;36mzmq.backend.cython.checkrc._check_rc\u001b[0;34m()\u001b[0m\n",
            "\u001b[0;31mKeyboardInterrupt\u001b[0m: "
          ]
        }
      ]
    },
    {
      "cell_type": "code",
      "source": [
        "plt.plot(history_conv_chars.history['loss'])\n",
        "plt.plot(history_conv_chars.history['val_loss'])\n",
        "plt.title('model loss chars')\n",
        "plt.ylabel('loss')\n",
        "plt.xlabel('epoch')\n",
        "plt.legend(['train loss', 'val loss'], loc='upper left')\n",
        "plt.show()"
      ],
      "metadata": {
        "colab": {
          "base_uri": "https://localhost:8080/",
          "height": 295
        },
        "id": "qOuv6AaETYyS",
        "outputId": "94b2a4a6-5219-487e-bf21-cf032902adba"
      },
      "execution_count": null,
      "outputs": [
        {
          "output_type": "display_data",
          "data": {
            "image/png": "[encoded data removed]",
            "text/plain": [
              "<Figure size 432x288 with 1 Axes>"
            ]
          },
          "metadata": {
            "needs_background": "light"
          }
        }
      ]
    },
    {
      "cell_type": "code",
      "source": [
        "plt.plot(history_conv_chars.history['acc'])\n",
        "plt.plot(history_conv_chars.history['val_acc'])\n",
        "plt.title('chars model accuracy')\n",
        "plt.ylabel('accuracy (%)')\n",
        "plt.xlabel('epoch')\n",
        "plt.legend(['train accuracy', 'val accuracy'], loc='upper left')\n",
        "plt.show()"
      ],
      "metadata": {
        "colab": {
          "base_uri": "https://localhost:8080/",
          "height": 295
        },
        "id": "R3BwkyuSTo32",
        "outputId": "4c0a71e2-2dbc-4e10-8de8-47f70aa17a6d"
      },
      "execution_count": null,
      "outputs": [
        {
          "output_type": "display_data",
          "data": {
            "image/png": "[encoded data removed]",
            "text/plain": [
              "<Figure size 432x288 with 1 Axes>"
            ]
          },
          "metadata": {
            "needs_background": "light"
          }
        }
      ]
    },
    {
      "cell_type": "code",
      "source": [
        "from sklearn.metrics import confusion_matrix, ConfusionMatrixDisplay\n",
        "#characters = \"ABCDEFGHIJKLMNOPQRSTUVWXYZ0123456789\"\n",
        "characters = \"ABCDEFGHIJKLMNOPQRSTUVWXYZ\"\n",
        "true = charEncodeArray\n",
        "true_char = [characters[np.argmax(i)] for i in true]\n",
        "\n",
        "predicted = char_model.predict(charArray)\n",
        "predicted_char = [characters[np.argmax(i)] for i in predicted]\n",
        "\n",
        "cm = confusion_matrix(true_char, predicted_char, labels=list(characters))\n",
        "cm_display = ConfusionMatrixDisplay(confusion_matrix=cm,display_labels=list(characters))\n",
        "\n",
        "fig, ax = plt.subplots(figsize=(10,10))\n",
        "cm_display.plot(ax=ax)\n",
        "plt.show()"
      ],
      "metadata": {
        "colab": {
          "base_uri": "https://localhost:8080/",
          "height": 580
        },
        "id": "VjcOt5fdTr_i",
        "outputId": "90eb4f97-c1bf-4f35-8c4e-293814b8e773"
      },
      "execution_count": null,
      "outputs": [
        {
          "output_type": "display_data",
          "data": {
            "image/png": "[encoded data removed]",
            "text/plain": [
              "<Figure size 720x720 with 2 Axes>"
            ]
          },
          "metadata": {
            "needs_background": "light"
          }
        }
      ]
    },
    {
      "cell_type": "code",
      "source": [
        "\n",
        "#!pip install h5py==2.10.0 --force-reinstall"
      ],
      "metadata": {
        "colab": {
          "base_uri": "https://localhost:8080/"
        },
        "id": "xwZULAVzHAsi",
        "outputId": "7dbcbb6f-4523-4b75-fdbe-694acbae2694"
      },
      "execution_count": null,
      "outputs": [
        {
          "output_type": "stream",
          "name": "stdout",
          "text": [
            "Requirement already satisfied: pyyaml in /usr/local/lib/python3.7/dist-packages (3.13)\n",
            "Requirement already satisfied: h5py in /usr/local/lib/python3.7/dist-packages (3.1.0)\n",
            "Requirement already satisfied: cached-property in /usr/local/lib/python3.7/dist-packages (from h5py) (1.5.2)\n",
            "Requirement already satisfied: numpy>=1.14.5 in /usr/local/lib/python3.7/dist-packages (from h5py) (1.19.5)\n"
          ]
        }
      ]
    },
    {
      "cell_type": "code",
      "source": [
        "char_model.save('char_nn')"
      ],
      "metadata": {
        "id": "pktokcyx1q2q"
      },
      "execution_count": null,
      "outputs": []
    },
    {
      "cell_type": "markdown",
      "source": [
        "Number NN"
      ],
      "metadata": {
        "id": "_lLL2zzS8_jO"
      }
    },
    {
      "cell_type": "code",
      "source": [
        "num_model= models.Sequential()\n",
        "num_model.add(layers.Conv2D(32, (3, 3), activation='relu',\n",
        "                             input_shape=(26,22,1)))\n",
        "# size of image\n",
        "num_model.add(layers.MaxPooling2D((2, 2)))\n",
        "num_model.add(layers.Conv2D(64, (3, 3), activation='relu'))\n",
        "num_model.add(layers.MaxPooling2D((2, 2)))\n",
        "num_model.add(layers.Flatten())\n",
        "num_model.add(layers.Dropout(0.5))\n",
        "num_model.add(layers.Dense(512, activation='relu'))\n",
        "num_model.add(layers.Dense(10, activation='softmax'))\n",
        "num_model.summary()"
      ],
      "metadata": {
        "colab": {
          "base_uri": "https://localhost:8080/"
        },
        "id": "2Tw4fv-H9BG1",
        "outputId": "06cfc28b-136c-4f82-bb4f-8288e907f6ec"
      },
      "execution_count": null,
      "outputs": [
        {
          "output_type": "stream",
          "name": "stdout",
          "text": [
            "Model: \"sequential_1\"\n",
            "_________________________________________________________________\n",
            "Layer (type)                 Output Shape              Param #   \n",
            "=================================================================\n",
            "conv2d_2 (Conv2D)            (None, 24, 20, 32)        320       \n",
            "_________________________________________________________________\n",
            "max_pooling2d_2 (MaxPooling2 (None, 12, 10, 32)        0         \n",
            "_________________________________________________________________\n",
            "conv2d_3 (Conv2D)            (None, 10, 8, 64)         18496     \n",
            "_________________________________________________________________\n",
            "max_pooling2d_3 (MaxPooling2 (None, 5, 4, 64)          0         \n",
            "_________________________________________________________________\n",
            "flatten_1 (Flatten)          (None, 1280)              0         \n",
            "_________________________________________________________________\n",
            "dropout_1 (Dropout)          (None, 1280)              0         \n",
            "_________________________________________________________________\n",
            "dense_2 (Dense)              (None, 512)               655872    \n",
            "_________________________________________________________________\n",
            "dense_3 (Dense)              (None, 10)                5130      \n",
            "=================================================================\n",
            "Total params: 679,818\n",
            "Trainable params: 679,818\n",
            "Non-trainable params: 0\n",
            "_________________________________________________________________\n"
          ]
        }
      ]
    },
    {
      "cell_type": "code",
      "source": [
        "LEARNING_RATE = 1e-4\n",
        "num_model.compile(loss='categorical_crossentropy',\n",
        "                   optimizer=optimizers.RMSprop(lr=LEARNING_RATE),\n",
        "                   metrics=['acc'])"
      ],
      "metadata": {
        "id": "_CGmAKVO9PWA"
      },
      "execution_count": null,
      "outputs": []
    },
    {
      "cell_type": "code",
      "source": [
        "reset_weights(num_model)\n",
        "charArray2, charEncodeArray2, numArray2, numEncodeArray2 = arrays_for_nn()\n",
        "print(len(numArray2))\n",
        "numArray2 = np.asarray(numArray2)\n",
        "numEncodeArray2 = np.asarray(numEncodeArray2)\n",
        "numArray2 = numArray2.reshape((-1, 26, 22, 1))\n",
        "\n",
        "history_conv_nums = num_model.fit(numArray2, numEncodeArray2, \n",
        "                              validation_split=VALIDATION_SPLIT,\n",
        "                              epochs=33, \n",
        "                              batch_size=200)"
      ],
      "metadata": {
        "id": "jsN51H249R2e",
        "colab": {
          "base_uri": "https://localhost:8080/"
        },
        "outputId": "ebc98cb6-37bc-401b-c931-4d14a00ede16"
      },
      "execution_count": null,
      "outputs": [
        {
          "output_type": "stream",
          "name": "stdout",
          "text": [
            "7980\n",
            "Train on 6384 samples, validate on 1596 samples\n",
            "Epoch 1/33\n",
            "6384/6384 [==============================] - 1s 125us/sample - loss: 12.0221 - acc: 0.1217 - val_loss: 2.8447 - val_acc: 0.1917\n",
            "Epoch 2/33\n",
            "6384/6384 [==============================] - 0s 59us/sample - loss: 4.0506 - acc: 0.2165 - val_loss: 1.4941 - val_acc: 0.5307\n",
            "Epoch 3/33\n",
            "6384/6384 [==============================] - 0s 59us/sample - loss: 1.6576 - acc: 0.4743 - val_loss: 1.0586 - val_acc: 0.7469\n",
            "Epoch 4/33\n",
            "6384/6384 [==============================] - 0s 58us/sample - loss: 1.0517 - acc: 0.6889 - val_loss: 0.6753 - val_acc: 0.8365\n",
            "Epoch 5/33\n",
            "6384/6384 [==============================] - 0s 59us/sample - loss: 0.7119 - acc: 0.8012 - val_loss: 0.4762 - val_acc: 0.8828\n",
            "Epoch 6/33\n",
            "6384/6384 [==============================] - 0s 56us/sample - loss: 0.5172 - acc: 0.8556 - val_loss: 0.4331 - val_acc: 0.8791\n",
            "Epoch 7/33\n",
            "6384/6384 [==============================] - 0s 57us/sample - loss: 0.3921 - acc: 0.8954 - val_loss: 0.2615 - val_acc: 0.9392\n",
            "Epoch 8/33\n",
            "6384/6384 [==============================] - 0s 55us/sample - loss: 0.3063 - acc: 0.9157 - val_loss: 0.2269 - val_acc: 0.9480\n",
            "Epoch 9/33\n",
            "6384/6384 [==============================] - 0s 54us/sample - loss: 0.2408 - acc: 0.9372 - val_loss: 0.1651 - val_acc: 0.9599\n",
            "Epoch 10/33\n",
            "6384/6384 [==============================] - 0s 56us/sample - loss: 0.2036 - acc: 0.9445 - val_loss: 0.1688 - val_acc: 0.9586\n",
            "Epoch 11/33\n",
            "6384/6384 [==============================] - 0s 55us/sample - loss: 0.1740 - acc: 0.9568 - val_loss: 0.1417 - val_acc: 0.9612\n",
            "Epoch 12/33\n",
            "6384/6384 [==============================] - 0s 55us/sample - loss: 0.1476 - acc: 0.9632 - val_loss: 0.1136 - val_acc: 0.9693\n",
            "Epoch 13/33\n",
            "6384/6384 [==============================] - 0s 55us/sample - loss: 0.1343 - acc: 0.9643 - val_loss: 0.1075 - val_acc: 0.9706\n",
            "Epoch 14/33\n",
            "6384/6384 [==============================] - 0s 55us/sample - loss: 0.1111 - acc: 0.9696 - val_loss: 0.1219 - val_acc: 0.9731\n",
            "Epoch 15/33\n",
            "6384/6384 [==============================] - 0s 55us/sample - loss: 0.1009 - acc: 0.9748 - val_loss: 0.0990 - val_acc: 0.9743\n",
            "Epoch 16/33\n",
            "6384/6384 [==============================] - 0s 56us/sample - loss: 0.0897 - acc: 0.9743 - val_loss: 0.1166 - val_acc: 0.9699\n",
            "Epoch 17/33\n",
            "6384/6384 [==============================] - 0s 54us/sample - loss: 0.0790 - acc: 0.9798 - val_loss: 0.0835 - val_acc: 0.9756\n",
            "Epoch 18/33\n",
            "6384/6384 [==============================] - 0s 56us/sample - loss: 0.0700 - acc: 0.9821 - val_loss: 0.0716 - val_acc: 0.9806\n",
            "Epoch 19/33\n",
            "6384/6384 [==============================] - 0s 54us/sample - loss: 0.0642 - acc: 0.9823 - val_loss: 0.0723 - val_acc: 0.9793\n",
            "Epoch 20/33\n",
            "6384/6384 [==============================] - 0s 55us/sample - loss: 0.0590 - acc: 0.9825 - val_loss: 0.0897 - val_acc: 0.9768\n",
            "Epoch 21/33\n",
            "6384/6384 [==============================] - 0s 57us/sample - loss: 0.0495 - acc: 0.9865 - val_loss: 0.0697 - val_acc: 0.9818\n",
            "Epoch 22/33\n",
            "6384/6384 [==============================] - 0s 54us/sample - loss: 0.0539 - acc: 0.9851 - val_loss: 0.0655 - val_acc: 0.9787\n",
            "Epoch 23/33\n",
            "6384/6384 [==============================] - 0s 54us/sample - loss: 0.0447 - acc: 0.9870 - val_loss: 0.0775 - val_acc: 0.9793\n",
            "Epoch 24/33\n",
            "6384/6384 [==============================] - 0s 55us/sample - loss: 0.0368 - acc: 0.9911 - val_loss: 0.0615 - val_acc: 0.9850\n",
            "Epoch 25/33\n",
            "6384/6384 [==============================] - 0s 56us/sample - loss: 0.0414 - acc: 0.9872 - val_loss: 0.0639 - val_acc: 0.9825\n",
            "Epoch 26/33\n",
            "6384/6384 [==============================] - 0s 54us/sample - loss: 0.0343 - acc: 0.9901 - val_loss: 0.0662 - val_acc: 0.9818\n",
            "Epoch 27/33\n",
            "6384/6384 [==============================] - 0s 55us/sample - loss: 0.0331 - acc: 0.9904 - val_loss: 0.0599 - val_acc: 0.9843\n",
            "Epoch 28/33\n",
            "6384/6384 [==============================] - 0s 53us/sample - loss: 0.0358 - acc: 0.9904 - val_loss: 0.0606 - val_acc: 0.9831\n",
            "Epoch 29/33\n",
            "6384/6384 [==============================] - 0s 53us/sample - loss: 0.0263 - acc: 0.9936 - val_loss: 0.0646 - val_acc: 0.9843\n",
            "Epoch 30/33\n",
            "6384/6384 [==============================] - 0s 55us/sample - loss: 0.0313 - acc: 0.9919 - val_loss: 0.0600 - val_acc: 0.9837\n",
            "Epoch 31/33\n",
            "6384/6384 [==============================] - 0s 54us/sample - loss: 0.0247 - acc: 0.9937 - val_loss: 0.0857 - val_acc: 0.9818\n",
            "Epoch 32/33\n",
            "6384/6384 [==============================] - 0s 58us/sample - loss: 0.0262 - acc: 0.9934 - val_loss: 0.0694 - val_acc: 0.9837\n",
            "Epoch 33/33\n",
            "6384/6384 [==============================] - 0s 55us/sample - loss: 0.0269 - acc: 0.9940 - val_loss: 0.0571 - val_acc: 0.9843\n"
          ]
        }
      ]
    },
    {
      "cell_type": "code",
      "source": [
        "plt.plot(history_conv_nums.history['loss'])\n",
        "plt.plot(history_conv_nums.history['val_loss'])\n",
        "plt.title('num model loss')\n",
        "plt.ylabel('loss')\n",
        "plt.xlabel('epoch')\n",
        "plt.legend(['train loss', 'val loss'], loc='upper left')\n",
        "plt.show()"
      ],
      "metadata": {
        "colab": {
          "base_uri": "https://localhost:8080/",
          "height": 295
        },
        "id": "Fn7RprOP9UEo",
        "outputId": "50d8f93f-8096-45d7-cf98-30e67e841c65"
      },
      "execution_count": null,
      "outputs": [
        {
          "output_type": "display_data",
          "data": {
            "image/png": "[encoded data removed]",
            "text/plain": [
              "<Figure size 432x288 with 1 Axes>"
            ]
          },
          "metadata": {
            "needs_background": "light"
          }
        }
      ]
    },
    {
      "cell_type": "code",
      "source": [
        "plt.plot(history_conv_nums.history['acc'])\n",
        "plt.plot(history_conv_nums.history['val_acc'])\n",
        "plt.title('num model accuracy')\n",
        "plt.ylabel('accuracy (%)')\n",
        "plt.xlabel('epoch')\n",
        "plt.legend(['train accuracy', 'val accuracy'], loc='upper left')\n",
        "plt.show()"
      ],
      "metadata": {
        "colab": {
          "base_uri": "https://localhost:8080/",
          "height": 295
        },
        "id": "I4gl-Xyz9XlC",
        "outputId": "999b45b9-5161-4b21-8bf6-ec3b9ebc4ad0"
      },
      "execution_count": null,
      "outputs": [
        {
          "output_type": "display_data",
          "data": {
            "image/png": "[encoded data removed]",
            "text/plain": [
              "<Figure size 432x288 with 1 Axes>"
            ]
          },
          "metadata": {
            "needs_background": "light"
          }
        }
      ]
    },
    {
      "cell_type": "code",
      "source": [
        "from sklearn.metrics import confusion_matrix, ConfusionMatrixDisplay\n",
        "#characters = \"ABCDEFGHIJKLMNOPQRSTUVWXYZ0123456789\"\n",
        "characters = \"0123456789\"\n",
        "true = numEncodeArray2\n",
        "true_num = [characters[np.argmax(i)] for i in true]\n",
        "\n",
        "predicted = num_model.predict(numArray2)\n",
        "predicted_num = [characters[np.argmax(i)] for i in predicted]\n",
        "\n",
        "print(numArray2[0])\n",
        "\n",
        "\n",
        "cm = confusion_matrix(true_num, predicted_num, labels=list(characters))\n",
        "cm_display = ConfusionMatrixDisplay(confusion_matrix=cm,display_labels=list(characters))\n",
        "\n",
        "\n",
        "fig, ax = plt.subplots(figsize=(10,10))\n",
        "cm_display.plot(ax=ax)\n",
        "plt.show()"
      ],
      "metadata": {
        "colab": {
          "base_uri": "https://localhost:8080/",
          "height": 1000
        },
        "id": "LFy8pmUi9cJy",
        "outputId": "4f13c8f2-08a9-4542-b1b7-28a7f2724b3c"
      },
      "execution_count": null,
      "outputs": [
        {
          "output_type": "stream",
          "name": "stdout",
          "text": [
            "[[[146]\n",
            "  [147]\n",
            "  [145]\n",
            "  [151]\n",
            "  [159]\n",
            "  [160]\n",
            "  [156]\n",
            "  [157]\n",
            "  [163]\n",
            "  [159]\n",
            "  [157]\n",
            "  [154]\n",
            "  [165]\n",
            "  [167]\n",
            "  [164]\n",
            "  [154]\n",
            "  [153]\n",
            "  [154]\n",
            "  [150]\n",
            "  [150]\n",
            "  [150]\n",
            "  [154]]\n",
            "\n",
            " [[157]\n",
            "  [156]\n",
            "  [156]\n",
            "  [156]\n",
            "  [158]\n",
            "  [163]\n",
            "  [160]\n",
            "  [160]\n",
            "  [164]\n",
            "  [166]\n",
            "  [165]\n",
            "  [166]\n",
            "  [170]\n",
            "  [169]\n",
            "  [171]\n",
            "  [165]\n",
            "  [165]\n",
            "  [164]\n",
            "  [166]\n",
            "  [165]\n",
            "  [168]\n",
            "  [169]]\n",
            "\n",
            " [[167]\n",
            "  [168]\n",
            "  [168]\n",
            "  [166]\n",
            "  [168]\n",
            "  [170]\n",
            "  [170]\n",
            "  [168]\n",
            "  [166]\n",
            "  [171]\n",
            "  [167]\n",
            "  [171]\n",
            "  [171]\n",
            "  [172]\n",
            "  [173]\n",
            "  [172]\n",
            "  [173]\n",
            "  [173]\n",
            "  [174]\n",
            "  [172]\n",
            "  [171]\n",
            "  [171]]\n",
            "\n",
            " [[170]\n",
            "  [169]\n",
            "  [171]\n",
            "  [170]\n",
            "  [167]\n",
            "  [164]\n",
            "  [163]\n",
            "  [159]\n",
            "  [162]\n",
            "  [167]\n",
            "  [170]\n",
            "  [171]\n",
            "  [171]\n",
            "  [177]\n",
            "  [175]\n",
            "  [174]\n",
            "  [174]\n",
            "  [175]\n",
            "  [175]\n",
            "  [175]\n",
            "  [176]\n",
            "  [174]]\n",
            "\n",
            " [[175]\n",
            "  [175]\n",
            "  [172]\n",
            "  [172]\n",
            "  [170]\n",
            "  [166]\n",
            "  [162]\n",
            "  [151]\n",
            "  [136]\n",
            "  [125]\n",
            "  [119]\n",
            "  [116]\n",
            "  [128]\n",
            "  [145]\n",
            "  [163]\n",
            "  [171]\n",
            "  [173]\n",
            "  [177]\n",
            "  [175]\n",
            "  [175]\n",
            "  [175]\n",
            "  [175]]\n",
            "\n",
            " [[176]\n",
            "  [175]\n",
            "  [176]\n",
            "  [175]\n",
            "  [175]\n",
            "  [175]\n",
            "  [171]\n",
            "  [171]\n",
            "  [166]\n",
            "  [153]\n",
            "  [136]\n",
            "  [115]\n",
            "  [100]\n",
            "  [ 94]\n",
            "  [ 88]\n",
            "  [ 89]\n",
            "  [107]\n",
            "  [129]\n",
            "  [155]\n",
            "  [169]\n",
            "  [174]\n",
            "  [174]]\n",
            "\n",
            " [[173]\n",
            "  [173]\n",
            "  [173]\n",
            "  [173]\n",
            "  [175]\n",
            "  [174]\n",
            "  [174]\n",
            "  [175]\n",
            "  [173]\n",
            "  [173]\n",
            "  [167]\n",
            "  [162]\n",
            "  [147]\n",
            "  [129]\n",
            "  [109]\n",
            "  [ 95]\n",
            "  [ 93]\n",
            "  [ 92]\n",
            "  [ 83]\n",
            "  [ 84]\n",
            "  [104]\n",
            "  [125]]\n",
            "\n",
            " [[151]\n",
            "  [169]\n",
            "  [164]\n",
            "  [164]\n",
            "  [164]\n",
            "  [164]\n",
            "  [166]\n",
            "  [167]\n",
            "  [171]\n",
            "  [172]\n",
            "  [172]\n",
            "  [174]\n",
            "  [169]\n",
            "  [164]\n",
            "  [152]\n",
            "  [137]\n",
            "  [118]\n",
            "  [110]\n",
            "  [108]\n",
            "  [111]\n",
            "  [117]\n",
            "  [110]]\n",
            "\n",
            " [[ 91]\n",
            "  [ 86]\n",
            "  [106]\n",
            "  [128]\n",
            "  [150]\n",
            "  [168]\n",
            "  [141]\n",
            "  [143]\n",
            "  [145]\n",
            "  [149]\n",
            "  [156]\n",
            "  [159]\n",
            "  [166]\n",
            "  [170]\n",
            "  [171]\n",
            "  [170]\n",
            "  [164]\n",
            "  [149]\n",
            "  [127]\n",
            "  [109]\n",
            "  [100]\n",
            "  [113]]\n",
            "\n",
            " [[130]\n",
            "  [144]\n",
            "  [142]\n",
            "  [124]\n",
            "  [ 98]\n",
            "  [ 89]\n",
            "  [105]\n",
            "  [130]\n",
            "  [151]\n",
            "  [165]\n",
            "  [124]\n",
            "  [124]\n",
            "  [125]\n",
            "  [137]\n",
            "  [148]\n",
            "  [155]\n",
            "  [161]\n",
            "  [167]\n",
            "  [166]\n",
            "  [159]\n",
            "  [149]\n",
            "  [130]]\n",
            "\n",
            " [[110]\n",
            "  [105]\n",
            "  [113]\n",
            "  [134]\n",
            "  [149]\n",
            "  [157]\n",
            "  [149]\n",
            "  [127]\n",
            "  [101]\n",
            "  [ 90]\n",
            "  [101]\n",
            "  [128]\n",
            "  [152]\n",
            "  [165]\n",
            "  [125]\n",
            "  [117]\n",
            "  [113]\n",
            "  [122]\n",
            "  [137]\n",
            "  [153]\n",
            "  [160]\n",
            "  [158]]\n",
            "\n",
            " [[153]\n",
            "  [137]\n",
            "  [119]\n",
            "  [113]\n",
            "  [112]\n",
            "  [126]\n",
            "  [141]\n",
            "  [151]\n",
            "  [158]\n",
            "  [158]\n",
            "  [150]\n",
            "  [126]\n",
            "  [ 98]\n",
            "  [ 90]\n",
            "  [101]\n",
            "  [126]\n",
            "  [150]\n",
            "  [165]\n",
            "  [106]\n",
            "  [106]\n",
            "  [113]\n",
            "  [128]]\n",
            "\n",
            " [[143]\n",
            "  [158]\n",
            "  [161]\n",
            "  [146]\n",
            "  [127]\n",
            "  [109]\n",
            "  [ 95]\n",
            "  [110]\n",
            "  [133]\n",
            "  [151]\n",
            "  [157]\n",
            "  [157]\n",
            "  [157]\n",
            "  [151]\n",
            "  [140]\n",
            "  [119]\n",
            "  [ 92]\n",
            "  [ 83]\n",
            "  [ 98]\n",
            "  [120]\n",
            "  [140]\n",
            "  [152]]\n",
            "\n",
            " [[124]\n",
            "  [124]\n",
            "  [129]\n",
            "  [138]\n",
            "  [152]\n",
            "  [164]\n",
            "  [162]\n",
            "  [136]\n",
            "  [103]\n",
            "  [ 79]\n",
            "  [ 76]\n",
            "  [ 87]\n",
            "  [ 96]\n",
            "  [103]\n",
            "  [105]\n",
            "  [102]\n",
            "  [ 97]\n",
            "  [ 91]\n",
            "  [ 89]\n",
            "  [ 84]\n",
            "  [ 73]\n",
            "  [ 70]]\n",
            "\n",
            " [[ 80]\n",
            "  [ 88]\n",
            "  [ 97]\n",
            "  [121]\n",
            "  [154]\n",
            "  [155]\n",
            "  [158]\n",
            "  [163]\n",
            "  [169]\n",
            "  [168]\n",
            "  [161]\n",
            "  [144]\n",
            "  [119]\n",
            "  [100]\n",
            "  [102]\n",
            "  [105]\n",
            "  [107]\n",
            "  [110]\n",
            "  [111]\n",
            "  [111]\n",
            "  [112]\n",
            "  [111]]\n",
            "\n",
            " [[108]\n",
            "  [ 97]\n",
            "  [ 83]\n",
            "  [ 77]\n",
            "  [ 88]\n",
            "  [104]\n",
            "  [124]\n",
            "  [144]\n",
            "  [168]\n",
            "  [168]\n",
            "  [170]\n",
            "  [169]\n",
            "  [172]\n",
            "  [169]\n",
            "  [167]\n",
            "  [163]\n",
            "  [154]\n",
            "  [148]\n",
            "  [148]\n",
            "  [149]\n",
            "  [149]\n",
            "  [152]]\n",
            "\n",
            " [[151]\n",
            "  [148]\n",
            "  [147]\n",
            "  [145]\n",
            "  [135]\n",
            "  [116]\n",
            "  [ 95]\n",
            "  [ 84]\n",
            "  [ 98]\n",
            "  [120]\n",
            "  [146]\n",
            "  [163]\n",
            "  [171]\n",
            "  [169]\n",
            "  [171]\n",
            "  [170]\n",
            "  [172]\n",
            "  [172]\n",
            "  [172]\n",
            "  [172]\n",
            "  [168]\n",
            "  [169]]\n",
            "\n",
            " [[170]\n",
            "  [170]\n",
            "  [166]\n",
            "  [167]\n",
            "  [167]\n",
            "  [166]\n",
            "  [163]\n",
            "  [159]\n",
            "  [150]\n",
            "  [127]\n",
            "  [102]\n",
            "  [ 91]\n",
            "  [106]\n",
            "  [131]\n",
            "  [152]\n",
            "  [167]\n",
            "  [171]\n",
            "  [169]\n",
            "  [172]\n",
            "  [171]\n",
            "  [173]\n",
            "  [172]]\n",
            "\n",
            " [[172]\n",
            "  [172]\n",
            "  [171]\n",
            "  [174]\n",
            "  [174]\n",
            "  [174]\n",
            "  [171]\n",
            "  [171]\n",
            "  [170]\n",
            "  [169]\n",
            "  [168]\n",
            "  [165]\n",
            "  [159]\n",
            "  [144]\n",
            "  [127]\n",
            "  [120]\n",
            "  [132]\n",
            "  [149]\n",
            "  [159]\n",
            "  [169]\n",
            "  [171]\n",
            "  [170]]\n",
            "\n",
            " [[172]\n",
            "  [171]\n",
            "  [173]\n",
            "  [172]\n",
            "  [171]\n",
            "  [174]\n",
            "  [173]\n",
            "  [173]\n",
            "  [173]\n",
            "  [172]\n",
            "  [171]\n",
            "  [173]\n",
            "  [171]\n",
            "  [169]\n",
            "  [170]\n",
            "  [170]\n",
            "  [166]\n",
            "  [162]\n",
            "  [156]\n",
            "  [154]\n",
            "  [159]\n",
            "  [165]]\n",
            "\n",
            " [[168]\n",
            "  [170]\n",
            "  [171]\n",
            "  [172]\n",
            "  [171]\n",
            "  [171]\n",
            "  [172]\n",
            "  [173]\n",
            "  [172]\n",
            "  [175]\n",
            "  [174]\n",
            "  [171]\n",
            "  [172]\n",
            "  [171]\n",
            "  [170]\n",
            "  [173]\n",
            "  [172]\n",
            "  [170]\n",
            "  [171]\n",
            "  [172]\n",
            "  [169]\n",
            "  [170]]\n",
            "\n",
            " [[171]\n",
            "  [170]\n",
            "  [171]\n",
            "  [172]\n",
            "  [173]\n",
            "  [171]\n",
            "  [171]\n",
            "  [172]\n",
            "  [171]\n",
            "  [171]\n",
            "  [170]\n",
            "  [172]\n",
            "  [174]\n",
            "  [175]\n",
            "  [173]\n",
            "  [172]\n",
            "  [171]\n",
            "  [171]\n",
            "  [171]\n",
            "  [171]\n",
            "  [171]\n",
            "  [171]]\n",
            "\n",
            " [[171]\n",
            "  [171]\n",
            "  [171]\n",
            "  [172]\n",
            "  [172]\n",
            "  [171]\n",
            "  [172]\n",
            "  [172]\n",
            "  [174]\n",
            "  [171]\n",
            "  [175]\n",
            "  [170]\n",
            "  [173]\n",
            "  [171]\n",
            "  [170]\n",
            "  [172]\n",
            "  [174]\n",
            "  [175]\n",
            "  [173]\n",
            "  [174]\n",
            "  [172]\n",
            "  [170]]\n",
            "\n",
            " [[170]\n",
            "  [171]\n",
            "  [172]\n",
            "  [172]\n",
            "  [171]\n",
            "  [171]\n",
            "  [172]\n",
            "  [172]\n",
            "  [172]\n",
            "  [170]\n",
            "  [171]\n",
            "  [172]\n",
            "  [174]\n",
            "  [170]\n",
            "  [173]\n",
            "  [172]\n",
            "  [173]\n",
            "  [174]\n",
            "  [174]\n",
            "  [174]\n",
            "  [171]\n",
            "  [172]]\n",
            "\n",
            " [[172]\n",
            "  [170]\n",
            "  [172]\n",
            "  [171]\n",
            "  [170]\n",
            "  [170]\n",
            "  [172]\n",
            "  [171]\n",
            "  [169]\n",
            "  [169]\n",
            "  [171]\n",
            "  [171]\n",
            "  [172]\n",
            "  [172]\n",
            "  [171]\n",
            "  [173]\n",
            "  [173]\n",
            "  [171]\n",
            "  [171]\n",
            "  [172]\n",
            "  [171]\n",
            "  [172]]\n",
            "\n",
            " [[174]\n",
            "  [173]\n",
            "  [170]\n",
            "  [171]\n",
            "  [171]\n",
            "  [170]\n",
            "  [172]\n",
            "  [174]\n",
            "  [174]\n",
            "  [173]\n",
            "  [173]\n",
            "  [172]\n",
            "  [171]\n",
            "  [172]\n",
            "  [174]\n",
            "  [174]\n",
            "  [174]\n",
            "  [174]\n",
            "  [172]\n",
            "  [173]\n",
            "  [171]\n",
            "  [175]]]\n"
          ]
        },
        {
          "output_type": "display_data",
          "data": {
            "image/png": "[encoded data removed]",
            "text/plain": [
              "<Figure size 720x720 with 2 Axes>"
            ]
          },
          "metadata": {
            "needs_background": "light"
          }
        }
      ]
    },
    {
      "cell_type": "code",
      "source": [
        "num_model.save('num_nn')"
      ],
      "metadata": {
        "id": "4yxyKKP6In_9"
      },
      "execution_count": null,
      "outputs": []
    },
    {
      "cell_type": "code",
      "source": [
        "# need to see how to predict just one char, and need to make one for nums as well\n",
        "# performance agains sim data.. wait it is alread on sim data all good ?\n",
        "# need to figure out how to save them and integrate into \n",
        "# I think I need to do something like below to predict on my images\n",
        "\n",
        "# may need to expand my image to pass it to the model, im not sure why it is [0] for second line\n",
        "img_aug = np.expand_dims(img, axis=0)\n",
        "y_predict = conv_model.predict(img_aug)[0]\n",
        "\n",
        "predicted = num_model.predict(numArray2)\n",
        "predicted_num = [characters[np.argmax(i)] for i in predicted]\n",
        "\n",
        "print(predicted[0])\n",
        "print(predicted_num[0])\n",
        "\n",
        "characters = \"ABCDEFGHIJKLMNOPQRSTUVWXYZ\"\n",
        "true = charEncodeArray\n",
        "true_char = [characters[np.argmax(i)] for i in true]\n",
        "\n",
        "predicted = char_model.predict(charArray)\n",
        "predicted_char = [characters[np.argmax(i)] for i in predicted]\n",
        "\n",
        "print(predicted[1])\n",
        "print(predicted_char[1])\n",
        "\n",
        "# now just need to find how to properly save"
      ],
      "metadata": {
        "id": "3HEL9SSta7wv"
      },
      "execution_count": null,
      "outputs": []
    }
  ]
}